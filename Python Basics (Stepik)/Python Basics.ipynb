{
 "cells": [
  {
   "cell_type": "markdown",
   "metadata": {},
   "source": [
    "---\n",
    "# Python\n",
    "---\n",
    "\n",
    "- [binder](https://mybinder.org/): поделится интерактивным jupyter файлом\n",
    "- [nbviewer](https://nbviewer.jupyter.org/): поделится статичным jupyter файлом\n",
    "\n",
    "## 1. Объекты в Python\n",
    "\n",
    "**Объект** — абстракция для данных (контейнер в памяти, который содержит данные). Напр: числа, строки, списки и т.д. Данные в Python представлены объектами и отношениями между ними. Любой объект в Python имеет:\n",
    "\n",
    "### 1.1. Идентификатор\n",
    "\n",
    "**Идентификатор** — адрес объекта в памяти (целое число). Позволяет в любой момент времени отличить один объект от другого (нельзя изменить после создания объекта). Оператор присваивания `x = y` запоминает за переменной слева идентификатор объекта справа (переменная же — это ссылка на идентификатор).\n",
    "\n",
    "<img src=\"data/objects.png\" width=\"400\" title=\"vars_id's_obj\">\n",
    "\n",
    "Примеры:\n",
    "1. `x = 4` создаёт объект для 4, а затем связывает x c идентификатором объекта 4 (x ссылается на объект 4).\n",
    "2. `x = y` получает идентификатор y и связывает x c идентификатором объекта y.\n",
    "\n",
    "**Замечание**: простые объекты (маленькие числа, короткие строки, True, False и т.д.) для оптимизации работы представлены в памяти как неизменяемые объекты и, следовательно, имеют постоянный id. При этом большие числа и строки даже при одном и том же значении уже будут иметь разный id."
   ]
  },
  {
   "cell_type": "code",
   "execution_count": 7,
   "metadata": {},
   "outputs": [
    {
     "name": "stdout",
     "output_type": "stream",
     "text": [
      "2020398677960\n",
      "2020398070088\n"
     ]
    }
   ],
   "source": [
    "x = [1, 2 , 3]\n",
    "print(id(x))\n",
    "print(id([1, 2, 3]))   # разные объекты, следовательно разные id"
   ]
  },
  {
   "cell_type": "code",
   "execution_count": 8,
   "metadata": {},
   "outputs": [
    {
     "name": "stdout",
     "output_type": "stream",
     "text": [
      "True\n",
      "False\n",
      "[1, 2, 3, 4] [1, 2, 3, 4]\n"
     ]
    }
   ],
   "source": [
    "x = [1, 2, 3]\n",
    "y = x\n",
    "print(y is x)          # разные переменные, но тот же объект\n",
    "print(y is [1, 2, 3])  # разные объекты\n",
    "x.append(4)\n",
    "print(x, y)"
   ]
  },
  {
   "cell_type": "code",
   "execution_count": 11,
   "metadata": {},
   "outputs": [
    {
     "name": "stdout",
     "output_type": "stream",
     "text": [
      "140726998770064 140726998770096\n",
      "140726998770064 140726998770096\n",
      "140726998770096\n",
      "True\n"
     ]
    }
   ],
   "source": [
    "print(id(1), id(2))\n",
    "a, b = 1, 2\n",
    "print(id(a), id(b))    # те же id, что и у 1 и 2\n",
    "c = a + a\n",
    "print(id(c))           # тот же id, что и у 2\n",
    "print(b is c)"
   ]
  },
  {
   "cell_type": "code",
   "execution_count": 12,
   "metadata": {},
   "outputs": [
    {
     "name": "stdout",
     "output_type": "stream",
     "text": [
      "[1, 2, 3, 4] 123\n"
     ]
    }
   ],
   "source": [
    "x = [1, 2, 3]\n",
    "y = x\n",
    "y.append(4)            # x и y разные переменные, но они ссылаются на один и тот же объект\n",
    "s = \"123\"\n",
    "t = s\n",
    "t = t + \"4\"            # конкатенацией создаётся новый объект для t\n",
    "print(str(x) + \" \" + s)"
   ]
  },
  {
   "cell_type": "markdown",
   "metadata": {},
   "source": [
    "### 1.2. Тип\n",
    "\n",
    "- определяет, что можно делать с объектом (т.е. его поведение)\n",
    "- определяет возможные принимаемые значения\n",
    "- нельзя изменить после создания"
   ]
  },
  {
   "cell_type": "code",
   "execution_count": 17,
   "metadata": {},
   "outputs": [
    {
     "name": "stdout",
     "output_type": "stream",
     "text": [
      "<class 'list'> <class 'int'> <class 'type'>\n"
     ]
    }
   ],
   "source": [
    "print(type([1, 2, 3]), type(1), type(type(1)))"
   ]
  },
  {
   "cell_type": "markdown",
   "metadata": {},
   "source": [
    "### 1.3. Значение\n",
    "\n",
    "- **изменяемые объекты** (mutable objects)\n",
    "- **неизменяемые объекты** (immutable objects)\n",
    "\n",
    "| Immutable types       | Mutable types       |\n",
    "| ----------------------|---------------------|\n",
    "| int, float, complex   | list                |\n",
    "| bool                  | dictionary          |\n",
    "| tuple                 | set                 |\n",
    "| string                | function            |\n",
    "| frozen set            |                     |\n",
    "| NoneType              |                     |\n",
    "| TypeType              |                     |\n",
    "| etc.                  | etc.                |"
   ]
  },
  {
   "cell_type": "code",
   "execution_count": 22,
   "metadata": {},
   "outputs": [
    {
     "name": "stdout",
     "output_type": "stream",
     "text": [
      "140726998770192 140726998770224\n",
      "140726998770384\n"
     ]
    }
   ],
   "source": [
    "a = 5\n",
    "b = 6\n",
    "print(id(a), id(b))\n",
    "a = a + b\n",
    "print(id(a))           # a = a + b создаст новый объект для a, потому что int неизменяемый тип"
   ]
  },
  {
   "cell_type": "markdown",
   "metadata": {},
   "source": [
    "Найти число разных объектов в списке:"
   ]
  },
  {
   "cell_type": "code",
   "execution_count": 25,
   "metadata": {},
   "outputs": [
    {
     "name": "stdout",
     "output_type": "stream",
     "text": [
      "5\n"
     ]
    }
   ],
   "source": [
    "#"
   ]
  },
  {
   "cell_type": "markdown",
   "metadata": {},
   "source": [
    "---\n",
    "## 2. Функции в Python\n",
    "\n",
    "### 2.1. Плюсы использования функций\n",
    "- уменьшение кода (за счёт переиспользования)\n",
    "- структурирование кода (легче читать и сложнее допустить ошибку)\n",
    "- сокрытие деталей реализации (можно использовать, не зная как работает)\n",
    "\n",
    "Функции в Python интерпретируются целиком, а не построчно; функции также являются объектами."
   ]
  },
  {
   "cell_type": "code",
   "execution_count": 17,
   "metadata": {},
   "outputs": [
    {
     "name": "stdout",
     "output_type": "stream",
     "text": [
      "<class 'function'> 2030953462952\n"
     ]
    }
   ],
   "source": [
    "def list_sum(lst):\n",
    "    result = 0\n",
    "    for element in lst:\n",
    "        result += element\n",
    "    return result\n",
    "\n",
    "print(type(list_sum), id(list_sum))"
   ]
  },
  {
   "cell_type": "markdown",
   "metadata": {},
   "source": [
    "### 2.2. Стек вызовов\n",
    "\n",
    "**Стек** — абстрактная структура данных. Push — оперция добавленния данных в стек, Pop — взятия данных со стека\n",
    "\n",
    "**Стек вызовов** (машинный стек или стек исполнения) — стек функций, которые были вызваны. Функция кладётся на стек при её вызове, и снимается с него при завершении её выполнения. \n",
    "\n",
    "- стек вызовов отображает все функции, которые исполняются в данный момент и их очередность вызова.\n",
    "- интерпретатор всегда выполняет самую верхнюю функцию на стеке\n",
    "- module: функция в самом низу стека (исполняет запросы)\n",
    "- стек используется из-за простоты реализации в оперативной памяти\n",
    "\n",
    "| func_n |\n",
    "|--------|\n",
    "| ...    |\n",
    "| func_2 |\n",
    "| func_1 |\n",
    "| module |\n",
    "\n",
    "Визуализировать выполнение кода пошагово:\n",
    "http://www.pythontutor.com/visualize.html#mode=edit\n",
    "\n",
    "### 2.3. Параметры функций\n",
    "\n",
    "- могут быть позиционными или именованными\n",
    "- могут иметь значения по умолчанию\n",
    "- могут быть списками, кортежами или словарями\n",
    "\n",
    "Порядок следования параметров: позиционные, позиционные со значением по умолчанию, список (или кортеж) позиционных, именованные, словарь именованных. `def func(a, b, c=1, *ls, p1=1, p2=2, **dict):` (нужно учитывать его при вызове!)"
   ]
  },
  {
   "cell_type": "code",
   "execution_count": 22,
   "metadata": {},
   "outputs": [
    {
     "name": "stdout",
     "output_type": "stream",
     "text": [
      "a, b:  1 2\n",
      "args:  10 20 30\n",
      "\n",
      "a, b:  1 2\n",
      "x 10\n",
      "y 20\n",
      "z 30\n",
      "\n",
      "a, b:  1 2\n",
      "x 10\n",
      "y 20\n",
      "z 30\n",
      "\n"
     ]
    }
   ],
   "source": [
    "def print_1(a, b, *args):\n",
    "    print('a, b: ', a, b)\n",
    "    print('args: ', *args)\n",
    "    print()\n",
    "    \n",
    "def print_2(a, b, **args):\n",
    "    print('a, b: ', a, b)\n",
    "    for key in args: print(key, args[key])\n",
    "    print()\n",
    "\n",
    "print_1(1, 2, 10, 20, 30)\n",
    "print_2(1, 2, x='10', y='20', z='30')\n",
    "print_2(1, x='10', y='20', z='30', b=2)"
   ]
  },
  {
   "cell_type": "code",
   "execution_count": 27,
   "metadata": {},
   "outputs": [
    {
     "name": "stdin",
     "output_type": "stream",
     "text": [
      "enter n and k:  10 5\n"
     ]
    },
    {
     "name": "stdout",
     "output_type": "stream",
     "text": [
      "252\n"
     ]
    }
   ],
   "source": [
    "#"
   ]
  },
  {
   "cell_type": "markdown",
   "metadata": {},
   "source": [
    "### 2.4. Пространства имён и области видимости\n",
    "\n",
    "**Пространство имён** (namespace) — множество ссылок от всех имён (переменных, функций, классов) до объектов в оперативной памяти.\n",
    "\n",
    "Создаётся:\n",
    "- при запуске интерпретатора (**builtins**: все стандартные типы, переменные и функции; **main**: все имена, которые были объявлены на верхнем уровне кода)\n",
    "- при вызове функций (удаляется после выполнения)\n",
    "\n",
    "При чтении кода имена ищутся в пространствах имён в той последовательности, в которой соответствующие им функции лежат в стеке (это позволяет использовать одни и те же имена в разных частях программы).\n",
    "\n",
    "| namespace_n |\n",
    "|-------------|\n",
    "|  ...        |\n",
    "| namespace_2 |\n",
    "| namespace_1 |\n",
    "| globals     |\n",
    "| buitins     |\n",
    "\n",
    "**Область видимости** (scope) — текстовая область программы, в которой локальное пространство имён доступно напрямую.\n",
    "- статичны, зависят лишь от написанного кода, не зависят от исполнения программы\n",
    "- в процессе исполнения программы локальным областям видимости соответствуют локальные пространства имён этих функций \n",
    "- весь код можно покрыть областями видимости (одни будут включать в себя другие)\n",
    "\n",
    "При выполнении функции весь код всегда можно разбить на 4 области видимости:\n",
    "1. локальная (соответствует локальному пространству имён) \n",
    "2. закрывающие (до глобальной области)\n",
    "3. глобальная\n",
    "4. соответствующая builtins\n",
    "\n",
    "При выполнении программы поиск имён осуществляется последовательно по пространствам имён соответствующим **local — enclosing — global — builtins** областям видимости."
   ]
  },
  {
   "cell_type": "code",
   "execution_count": 31,
   "metadata": {},
   "outputs": [],
   "source": [
    "def b():                                #\n",
    "    x = 10                   #          #\n",
    "    def a():                 # b scope  #\n",
    "        print(x)  # a scope  #          #\n",
    "    a()                      #          #\n",
    "                                        # global scope\n",
    "                                        #\n",
    "def c():                                #\n",
    "    None                     # c scope  #  \n",
    "                                        #\n",
    "x = 1                                   #\n",
    "\n",
    "# т.е. например, при вызове print(x) в a() итерпретатор ищет:\n",
    "# имя print в пространствах имён a(), b(), global, builtins (в таком порядке)\n",
    "# затем имя x в пространствах имён a(), b()"
   ]
  },
  {
   "cell_type": "markdown",
   "metadata": {},
   "source": [
    "**Исключение**: пространства имён не создаются при использовании условных операторов и циклов (работают в текущих пространствах имён)."
   ]
  },
  {
   "cell_type": "code",
   "execution_count": 33,
   "metadata": {},
   "outputs": [
    {
     "name": "stdout",
     "output_type": "stream",
     "text": [
      "4\n"
     ]
    }
   ],
   "source": [
    "for i in range(5): None\n",
    "print(i)"
   ]
  },
  {
   "cell_type": "markdown",
   "metadata": {},
   "source": [
    "Иногда из тела функции необходимо изменить глобальные переменные (или переменные функции закрывающей области видимости), для этого используют конструкции `global` и `nonlocal`."
   ]
  },
  {
   "cell_type": "code",
   "execution_count": 39,
   "metadata": {},
   "outputs": [
    {
     "name": "stdout",
     "output_type": "stream",
     "text": [
      "True True\n",
      "False False\n"
     ]
    }
   ],
   "source": [
    "def check(word):  # проверка наличия гласных в слове\n",
    "    global ok_status\n",
    "    for vowel in vowels:\n",
    "        if vowel in word:\n",
    "            return True\n",
    "    ok_status = False\n",
    "    return False\n",
    "\n",
    "ok_status = True\n",
    "vowels = ['a', 'u', 'i', 'e', 'o']\n",
    "print(check('abracadabra'), ok_status)\n",
    "print(check('www'), ok_status)"
   ]
  },
  {
   "cell_type": "markdown",
   "metadata": {},
   "source": [
    "### Эмуляция работы с пространством имён:\n",
    "\n",
    "Программе на вход подаются следующие запросы:\n",
    "- `create <namespace> <parent>` –  создать новое пространство имён с именем `<namespace>` внутри пространства `<parent>`\n",
    "- `add <namespace> <var>` – добавить в пространство `<namespace>` переменную `<var>`\n",
    "- `get <namespace> <var>` – получить имя пространства, из которого будет взята переменная `<var>` при запросе из пространства `<namespace>`, или None, если такого пространства не существует\n",
    "\n",
    "Рассмотрим набор запросов:\n",
    "```\n",
    ">>> add global a\n",
    ">>> create foo global\n",
    ">>> add foo b\n",
    ">>> create bar foo\n",
    ">>> add bar a\n",
    "```\n",
    "\n",
    "Структура пространств имен описанная выше будет эквивалентна структуре пространств имен, созданной при выполнении данного кода:\n",
    "\n",
    "```python\n",
    "a = 0\n",
    "def foo():\n",
    "  b = 1\n",
    "  def bar():\n",
    "    a = 2\n",
    "```\n",
    "\n",
    "Более формально, результатом работы `get <namespace> <var>` является:\n",
    "- `<namespace>`, если в пространстве `<namespace>` была объявлена переменная `<var>`\n",
    "- `get <parent> <var>` (результат запроса к пространству, внутри которого было создано пространство `<namespace>`), если переменная не была объявлена\n",
    "- None, если не существует `<parent>`, т. е. `<namespace>`﻿ – это global\n",
    "\n",
    "Формат входных данных:\n",
    "- число n (1 ≤ n ≤ 100) – число запросов\n",
    "- n строк по одному запросу"
   ]
  },
  {
   "cell_type": "code",
   "execution_count": 46,
   "metadata": {},
   "outputs": [
    {
     "name": "stdin",
     "output_type": "stream",
     "text": [
      "Enter number of entries:  9\n",
      " add global a\n",
      " create foo global\n",
      " add foo b\n",
      " get foo a\n",
      " get foo c\n",
      " create bar foo\n",
      " add bar a\n",
      " get bar a\n",
      " get bar b\n"
     ]
    },
    {
     "name": "stdout",
     "output_type": "stream",
     "text": [
      "global\n",
      "None\n",
      "bar\n",
      "foo\n"
     ]
    }
   ],
   "source": [
    "#"
   ]
  },
  {
   "cell_type": "markdown",
   "metadata": {},
   "source": [
    "---\n",
    "##  3. Классы в Python\n",
    "\n",
    "У каждого объекта есть тип, однако на практике удобно определять свои типы, для этого и существуют классы. Они позволяют описывать поведение объектов данного класса, а также создавать их (экземпляры данного класса), т.е. **класс** — это механизм и синтаксис для описания собственных типов данных (больше про ООП: https://younglinux.info/oopython/oop.php).\n",
    "### 3.1. Атрибуты класса и конструктор\n",
    "\n",
    "**Атрибуты класса** — переменные и функции в теле класса.\n",
    "- атрибуты-переменные называют **полями (или свойствами)**, атрибуты-функции называют **методами**\n",
    "- тело класса исполняется в момент определения самого класса\n",
    "- для тела класса создаётся отдельное пространство имён, в нём будут атрибуты класса"
   ]
  },
  {
   "cell_type": "code",
   "execution_count": 1,
   "metadata": {},
   "outputs": [
    {
     "name": "stdout",
     "output_type": "stream",
     "text": [
      "10\n",
      "<function MyClass.func at 0x000002516E2B6AF8>\n"
     ]
    }
   ],
   "source": [
    "class MyClass:\n",
    "    a = 10                          #\n",
    "                                    # тело класса MyClass\n",
    "    def func(self):                 #\n",
    "        print('Hello')              #\n",
    "\n",
    "print(MyClass.a)                    # a и func — атрибуты класса MyClass\n",
    "print(MyClass.func)                 #"
   ]
  },
  {
   "cell_type": "markdown",
   "metadata": {},
   "source": [
    "**Конструктор** (механизм инстанцирования) — способ создания объектов данного класса (**экземпляров класса** или **инстансов**; создаются вместе со своими пространствами имён). \n",
    "\n",
    "- конструкторы также есть у каждого встроенного класса: например `ls = list()` для списков\n",
    "- для класса можно вызвать конструктор и использовать атрибуты класса, для экземпляра класса — только использовать атрибуты (изменять и создавать)\n",
    "- поведение конструктора определяется функцией **\\_\\_init\\_\\_** из тела данного класса (например, можно задать значения атрибутов по умолчанию при создании экземпляров данного класса)\n",
    "- по умолчанию при создании экземпляра класса его пространство имён будет пустым (если не заданы атрибуты в **\\_\\_init\\_\\_**)"
   ]
  },
  {
   "cell_type": "code",
   "execution_count": 7,
   "metadata": {},
   "outputs": [
    {
     "name": "stdout",
     "output_type": "stream",
     "text": [
      "0 10\n",
      "<class '__main__.Counter'> <class 'type'>\n"
     ]
    }
   ],
   "source": [
    "class Counter:\n",
    "    def __init__(self, start=0):    # self — экземпляр класса\n",
    "        self.count = start          # для каждого созданного экземпляра count = 0 по умолчанию\n",
    "\n",
    "x = Counter()                       # создание экземпляра x класса Counter\n",
    "y = Counter(10)                     # создание экземпляра y класса Counter\n",
    "print(x.count, y.count)\n",
    "print(type(x), type(Counter))"
   ]
  },
  {
   "cell_type": "markdown",
   "metadata": {},
   "source": [
    "### 3.2. Методы\n",
    "\n",
    "**Методы** — такие атрибуты внутри экземпляра класса, которые являются функциями (описываются внутри тела класса). При вызове метод определяется экземпляром класса и функцией из тела класса.\n",
    "\n",
    "Например стандартный метод **sort** для списков:\n",
    "```python\n",
    "x = [2, 3, 1]  # создание экземпляра класса list\n",
    "x.sort()       # использование метода sort на экземпляре x\n",
    "```"
   ]
  },
  {
   "cell_type": "code",
   "execution_count": 11,
   "metadata": {},
   "outputs": [
    {
     "name": "stdout",
     "output_type": "stream",
     "text": [
      "1\n",
      "0\n"
     ]
    }
   ],
   "source": [
    "class Counter:\n",
    "    def __init__(self, start=0):  \n",
    "        self.count = start  \n",
    "\n",
    "    def inc(self):                  # определение метода inc\n",
    "        self.count += 1\n",
    "\n",
    "    def reset(self):                # определение метода reset\n",
    "        self.count = 0\n",
    "\n",
    "x = Counter()\n",
    "x.inc()  # эквивалентно Counter.inc(x)\n",
    "         # интерпретатор сначала ищет атрибут inc в пр-ве имён самого экземпляра x, а затем в пр-ве имён класса Counter \n",
    "         # x.inc — это связанный метод (bound method), специальный объект в Python\n",
    "print(x.count)\n",
    "x.reset()\n",
    "print(x.count)"
   ]
  },
  {
   "cell_type": "markdown",
   "metadata": {},
   "source": [
    "**Примеры:**\n",
    "\n",
    "1. Реализуем класс **MoneyBox**, для работы с виртуальной копилкой. Каждая копилка имеет ограниченную вместимость, которая выражается целым числом – количеством монет, которые можно положить в копилку. Класс должен поддерживать информацию о количестве монет в копилке, предоставлять возможность добавлять монеты в копилку и узнавать, можно ли добавить в копилку ещё какое-то количество монет, не превышая ее вместимость. При создании копилки, число монет в ней равно 0."
   ]
  },
  {
   "cell_type": "code",
   "execution_count": 12,
   "metadata": {},
   "outputs": [],
   "source": [
    "#"
   ]
  },
  {
   "cell_type": "markdown",
   "metadata": {},
   "source": [
    "2. Дается последовательность целых чисел и нужно вывести на экран сумму первой пятерки чисел из этой последовательности, затем сумму второй пятерки, и т. д. Но последовательность не дается целиком, с течением времени поступают её части. Например, сначала первые три элемента, потом следующие шесть, потом следующие два и т. д.  \n",
    "Реализуем класс **Buffer**, который будет накапливать в себе элементы последовательности и выводить сумму пятерок последовательных элементов по мере их накопления. Во время выполнения метода add выводить сумму пятерок может потребоваться несколько раз до тех пор, пока в буфере не останется менее пяти элементов."
   ]
  },
  {
   "cell_type": "code",
   "execution_count": 14,
   "metadata": {},
   "outputs": [
    {
     "name": "stdout",
     "output_type": "stream",
     "text": [
      "15\n",
      "40\n",
      "5\n",
      "5\n"
     ]
    },
    {
     "data": {
      "text/plain": [
       "[1]"
      ]
     },
     "execution_count": 14,
     "metadata": {},
     "output_type": "execute_result"
    }
   ],
   "source": [
    "#\n",
    "\n",
    "buf = Buffer()\n",
    "buf.add(1, 2, 3)\n",
    "buf.get_current_part()                   # вернуть [1, 2, 3]\n",
    "buf.add(4, 5, 6)                         # print(15) – вывод суммы первой пятерки элементов\n",
    "buf.get_current_part()                   # вернуть [6]\n",
    "buf.add(7, 8, 9, 10)                     # print(40) – вывод суммы второй пятерки элементов\n",
    "buf.get_current_part()                   # вернуть []\n",
    "buf.add(1, 1, 1, 1, 1, 1, 1, 1, 1, 1, 1) # print(5), print(5) – вывод сумм третьей и четвертой пятерки\n",
    "buf.get_current_part()                   # вернуть [1]"
   ]
  },
  {
   "cell_type": "markdown",
   "metadata": {},
   "source": [
    "3. Пример как **не** надо делать:"
   ]
  },
  {
   "cell_type": "code",
   "execution_count": 1,
   "metadata": {},
   "outputs": [
    {
     "data": {
      "text/plain": [
       "['rock', 'pop', 'electro', 'dnb']"
      ]
     },
     "execution_count": 1,
     "metadata": {},
     "output_type": "execute_result"
    }
   ],
   "source": [
    "class Song:\n",
    "    tags = list()\n",
    "\n",
    "    def __init__(self, artist, song):\n",
    "        self.artist = artist\n",
    "        self.song = song\n",
    "        # self.tags = list()  # КАК НАДО\n",
    "\n",
    "    def add_tags(self, *args):\n",
    "        self.tags.extend(args)\n",
    "\n",
    "song1 = Song('Artist1', 'Song1')\n",
    "song1.add_tags('rock', 'pop')\n",
    "song2 = Song('Artist2', 'Song2')\n",
    "song2.add_tags('electro', 'dnb')\n",
    "song2.tags\n",
    "# т.к. в __init__ self.tags не определяется, то интерпретатор не находит tags в экземплярах и ищет его в классе\n",
    "# - нужно ассоциировать теги с песней, а не с классом песен\n",
    "# - метод add_tags меняет класс, а не экземпляр класса (не надо так)"
   ]
  },
  {
   "cell_type": "markdown",
   "metadata": {},
   "source": [
    "4. Класс пользователей:"
   ]
  },
  {
   "cell_type": "code",
   "execution_count": 9,
   "metadata": {},
   "outputs": [
    {
     "name": "stdout",
     "output_type": "stream",
     "text": [
      "Bob None\n"
     ]
    }
   ],
   "source": [
    "class User:\n",
    "    def setName(self, n):\n",
    "        self.name = n\n",
    "\n",
    "    def getName(self):\n",
    "        try:\n",
    "                return self.name\n",
    "        except:\n",
    "                return None\n",
    "\n",
    "first = User()\n",
    "second = User()\n",
    "first.setName(\"Bob\")\n",
    "print(first.getName(), second.getName())"
   ]
  },
  {
   "cell_type": "markdown",
   "metadata": {},
   "source": [
    "<img src=\"data/classes_and_methods.PNG\" width=\"800\" title=\"vars_id's_obj\">"
   ]
  },
  {
   "cell_type": "markdown",
   "metadata": {},
   "source": [
    "### 3.3. Наследование классов\n",
    "\n",
    "Наследование нужно, когда необходимо, чтобы объект вел себя почти также как и объект другого типа, за небольшим (или большим) исключением. \n",
    "\n",
    "```python\n",
    "class DerivedClassName(Base1, Base2, Base3):  # Bases — классы наследования\n",
    "    # body\n",
    "```\n",
    "\n",
    "Для примера создадим класс, который ведёт себя также как **list**, но добавим к нему один метод:"
   ]
  },
  {
   "cell_type": "code",
   "execution_count": 13,
   "metadata": {},
   "outputs": [
    {
     "name": "stdout",
     "output_type": "stream",
     "text": [
      "[1, 2, 3, 4]\n",
      "True\n"
     ]
    }
   ],
   "source": [
    "class MyList(list):\n",
    "    def even_length(self):\n",
    "        return len(self) % 2 == 0\n",
    "\n",
    "l = MyList()\n",
    "# при создании экземпляра x используется конструктор из класса list, так как в классе MyList он не задан\n",
    "l.extend([1, 2, 3, 4])  \n",
    "# имя extend сначала ищется в пр-ве имён экземпляра x, затем в пр-ве имён класса MyList, а затем в пр-ве имён класса list\n",
    "print(l)\n",
    "# при вызове имени print для экземпляра x в его пр-ве имён ищется метод __repr__, затем в MyList, затем в list\n",
    "# __repr__(self) — строковое представление объекта при выводе в консоль\n",
    "print(l.even_length())"
   ]
  },
  {
   "cell_type": "markdown",
   "metadata": {},
   "source": [
    "- Python поддерживает множественное наследование\n",
    "- если явно не наследуется никакой класс, то класс наследует класс **object** (т.е. **object** является предком любого другого класса)\n",
    "- экземпляр класса также является и экземпляром предков данного класса \n",
    "\n",
    "<img src=\"data/inheritance.PNG\" width=\"200\" title=\"vars_id's_obj\">"
   ]
  },
  {
   "cell_type": "code",
   "execution_count": 5,
   "metadata": {},
   "outputs": [
    {
     "name": "stdout",
     "output_type": "stream",
     "text": [
      "True False True True False\n",
      "True True True False\n"
     ]
    }
   ],
   "source": [
    "class D: pass\n",
    "class E: pass\n",
    "class B(D, E): pass\n",
    "class C: pass\n",
    "class A(B, C): pass\n",
    "\n",
    "print(issubclass(A, A), issubclass(C, D), issubclass(A, D), issubclass(C, object), issubclass(object, C))\n",
    "x = A()\n",
    "print(isinstance(x, A), isinstance(x, B), isinstance(x, object), isinstance(x, str))  # issubclass(type(x), A)"
   ]
  },
  {
   "cell_type": "markdown",
   "metadata": {},
   "source": [
    "В случае множественного наследования важно понимать порядок в котором перебираются классы, когда ищется функция, соответствующая вызванному методу. Для этого существует **порядок разрешения методов** (method resolution order), он определяется в момент создания класса. Родительские классы будут перебираться в порядке, в котором они указаны при определении класса.\n",
    "\n",
    "При этом метод ищется по классам вверх по иерархии, но только в том случае, если у стоящего выше в иерархии нет наследников, в которых ещё не было произведено поиска, но которые тоже участвуют в наследовании (в этом случае поиск не вверх, а горизонтально по иерархии)."
   ]
  },
  {
   "cell_type": "code",
   "execution_count": 19,
   "metadata": {},
   "outputs": [
    {
     "name": "stdout",
     "output_type": "stream",
     "text": [
      "[<class '__main__.A'>, <class '__main__.B'>, <class '__main__.D'>, <class '__main__.E'>, <class '__main__.C'>, <class 'object'>]\n",
      "[<class '__main__.A'>, <class '__main__.B'>, <class '__main__.C'>, <class '__main__.E'>, <class '__main__.D'>, <class 'object'>]\n"
     ]
    }
   ],
   "source": [
    "class D: pass\n",
    "class E: pass\n",
    "class B(D, E): pass\n",
    "class C: pass\n",
    "class A(B, C): pass\n",
    "\n",
    "print(A.mro())  # порядок, в котором будут перебираться пр-ва имён классов (method resolution order)\n",
    "\n",
    "class E: pass\n",
    "class B(E): pass\n",
    "class C(E): pass\n",
    "class D: pass\n",
    "class A(B, C, D): pass\n",
    "\n",
    "print(A.mro())"
   ]
  },
  {
   "cell_type": "code",
   "execution_count": 14,
   "metadata": {},
   "outputs": [
    {
     "name": "stdout",
     "output_type": "stream",
     "text": [
      "True False\n"
     ]
    }
   ],
   "source": [
    "class EvenLength:\n",
    "    def even_length(self):\n",
    "        return len(self) % 2 == 0\n",
    "\n",
    "class MyList(list, EvenLength): pass\n",
    "\n",
    "class MyDict(dict, EvenLength): pass\n",
    "\n",
    "l = MyList()\n",
    "l.extend([1, 2, 3, 4])\n",
    "d = MyDict()\n",
    "d['key'] = 'value'\n",
    "print(l.even_length(), d.even_length())"
   ]
  },
  {
   "cell_type": "markdown",
   "metadata": {},
   "source": [
    "Класс может содержать методы с именами совпадающими с именами методов из родительских классов. Хотя иногда возникает необходимость вызова метода так, как будто он не определён в данном классе (т.е. вызвать его из родительского класса). Для этого используется функция **super**:"
   ]
  },
  {
   "cell_type": "code",
   "execution_count": 12,
   "metadata": {},
   "outputs": [
    {
     "name": "stdout",
     "output_type": "stream",
     "text": [
      "Last value is:  4\n"
     ]
    }
   ],
   "source": [
    "class EvenLength:\n",
    "    def even_length(self):\n",
    "        return len(self) % 2 == 0\n",
    "\n",
    "class MyList(list, EvenLength):\n",
    "    def pop(self):\n",
    "        x = super(MyList, self).pop()  # эквивалентно list.pop(self)\n",
    "        print('Last value is: ', x)\n",
    "        return x\n",
    "\n",
    "l = MyList([1, 2, 3, 4])\n",
    "x = l.pop()"
   ]
  },
  {
   "cell_type": "markdown",
   "metadata": {},
   "source": [
    "### 3.4. Примеры:\n",
    "\n",
    "1. В первой строке входных данных: n — число классов. В следующих n строках содержится описание наследования классов в виде `<class1> : <class2> ... <class3>`, где `<class2> ... <class3>` — прямые предки `<class1>`.\n",
    "\n",
    "    В следующей строке: q — количество запросов. В следующих q строках содержится описание запросов в формате `<class1> <class2>`. Для каждого запроса нужно вывести в отдельной строке \"Yes\", если класс 1 является предком класса 2, и \"No\", если не является.\n",
    "\n",
    "    Класс A является предком класса B, если:\n",
    "    - либо A = B\n",
    "    - либо A — прямой предок B\n",
    "    - либо A — предок B (через один или несколько других классов)\n",
    "\n",
    "```\n",
    "Sample Input:\n",
    "4\n",
    "A\n",
    "B : A\n",
    "C : A\n",
    "D : B C\n",
    "4\n",
    "A B\n",
    "B D\n",
    "C D\n",
    "D A\n",
    "Sample Output:\n",
    "Yes\n",
    "Yes\n",
    "Yes\n",
    "No\n",
    "```"
   ]
  },
  {
   "cell_type": "code",
   "execution_count": null,
   "metadata": {},
   "outputs": [],
   "source": [
    "#"
   ]
  },
  {
   "cell_type": "markdown",
   "metadata": {},
   "source": [
    "2. Реализуем структуру данных, представляющую собой расширенную структуру стек. Необходимо поддерживать добавление элемента на вершину стека, удаление с вершины, а также операции сложения, вычитания, умножения и целочисленного деления. Сложение на стеке определяется так: со стека снимается верхний элемент (top1), затем следующий верхний элемент (top2), затем на вершину стека кладется элемент, равный top1 + top2. Аналогично для вычитания (top1 - top2), умножения (top1 * top2) и целочисленного деления (top1 // top2). Реализуйм эту структуру данных как класс ExtendedStack, унаследовав его от стандартного класса list."
   ]
  },
  {
   "cell_type": "code",
   "execution_count": 32,
   "metadata": {},
   "outputs": [],
   "source": [
    "#"
   ]
  },
  {
   "cell_type": "markdown",
   "metadata": {},
   "source": [
    "3. Одно из применений множественного наследование – расширение функциональности класса каким-то заранее определенным способом. Например, если нам понадобится логировать какую-то информацию при обращении к методам класса.\n",
    "\n",
    "    Реализуем классы **Loggable** и **LoggableList**:\n",
    "    - Класс **Loggable** имеет один метод **log**, который выводит в лог (в данном случае в stdout) какое-то сообщение, добавляя при этом текущее время.\n",
    "    - Класс **LoggableList** — наследник классов **list** и **Loggable**, при этом при добавлении элемента в список посредством метода **append** в лог отправляется сообщение, состоящее из только что добавленного элемента."
   ]
  },
  {
   "cell_type": "code",
   "execution_count": 33,
   "metadata": {},
   "outputs": [],
   "source": [
    "#"
   ]
  },
  {
   "cell_type": "markdown",
   "metadata": {},
   "source": [
    "4. Игра и юниты:"
   ]
  },
  {
   "cell_type": "code",
   "execution_count": 42,
   "metadata": {},
   "outputs": [
    {
     "name": "stdout",
     "output_type": "stream",
     "text": [
      "Zerg attacks Protos : - 24.9 HP\n",
      "HP of Zerg : 50\n",
      "HP of Protos : 75.1\n",
      "Protos attacks Zerg : - 11.9 HP\n",
      "HP of Zerg : 38.1\n",
      "HP of Protos : 75.1\n",
      "Protos attacks Zerg : - 11.2 HP\n",
      "HP of Zerg : 26.900000000000002\n",
      "HP of Protos : 75.1\n",
      "Protos attacks Zerg : - 11.2 HP\n",
      "HP of Zerg : 15.700000000000003\n",
      "HP of Protos : 75.1\n",
      "Protos attacks Zerg : - 10.9 HP\n",
      "HP of Zerg : 4.8000000000000025\n",
      "HP of Protos : 75.1\n",
      "Protos attacks Zerg : - 11.3 HP\n",
      "Zerg was killed\n",
      "HP of Zerg : 0\n",
      "HP of Protos : 75.1\n"
     ]
    }
   ],
   "source": [
    "import random\n",
    "random.seed()\n",
    "\n",
    "class Unit:\n",
    "    def attack(self, enemy):  # self attacks enemy\n",
    "        damage = round(self.dmg * (0.8 + 0.2 * random.randint(1, 100) / 100), 1)\n",
    "        enemy.hp -= round(damage, 1)\n",
    "        print(self.name, 'attacks', enemy.name, ': -', damage, 'HP')\n",
    "\n",
    "    def show_hp(self):\n",
    "        print('HP of', self.name, ':', self.hp)\n",
    "\n",
    "    def fight(unit_A, unit_B):\n",
    "        while (unit_A.hp > 0) and (unit_B.hp > 0):\n",
    "            if random.randint(1,10) < 5:\n",
    "                unit_A.attack(unit_B)\n",
    "            else:\n",
    "                unit_B.attack(unit_A)\n",
    "            if unit_A.hp <= 0:\n",
    "                print(unit_A.name, 'was killed')\n",
    "                unit_A.hp = 0\n",
    "            if unit_B.hp <= 0:\n",
    "                print(unit_B.name, 'was killed')\n",
    "                unit_B.hp = 0\n",
    "            unit_A.show_hp()\n",
    "            unit_B.show_hp()\n",
    "\n",
    "class Zerg(Unit):\n",
    "    def __init__(self):\n",
    "        self.name = 'Zerg'\n",
    "        self.hp = 50\n",
    "        self.dmg = 25\n",
    "\n",
    "class Protos(Unit):\n",
    "    def __init__(self):\n",
    "        self.name = 'Protos'\n",
    "        self.hp = 100\n",
    "        self.dmg = 12.5\n",
    "\n",
    "zerling = Zerg()\n",
    "zealot = Protos()\n",
    "Unit.fight(zerling, zealot)"
   ]
  },
  {
   "cell_type": "markdown",
   "metadata": {},
   "source": [
    "---\n",
    "## 4. Ошибки в Python\n",
    "\n",
    "1. **Синтаксические** (проверяются до исполнения кода)\n",
    "2. **Исключения** (узнаются в процессе исполнения кода)\n",
    "\n",
    "Ошибка также является объектом, и у любой ошибки есть:\n",
    "- тип (напр: NameError, TypeError, IndexError, ZeroDivisionError, etc.)\n",
    "- дополнительное сообщение (что произошло, описание ошибки)\n",
    "- состояние стека вызовов на момент совершения ошибки (где произошло, название модуля и номер линии(-ий) в коде)\n",
    "\n",
    "### 4.1. Описание исключений\n",
    "\n",
    "Конструкция **try/except** позволяет продолжать исполнение программы даже в случае ошибки.\n",
    "- если не известен тип ошибки в коде, то его можно не указывать (пустой блок **except**)\n",
    "- в качестве исключений можно использовать кортеж\n",
    "- у ошибок в Python есть иерархия наследования (например, ZeroDivisionError — наследник ArithmeticError). При этом не используется множественное наследование, поэтому не имеет смысла проверять наследника в **except** блоке, если его предок уже проверяется в **except** блоке выше ([иерархия ошибок в Python](https://docs.python.org/3/library/exceptions.html#exception-hierarchy))\n",
    "- необязательный блок **else** выполняется, если описанных исключений не возникло\n",
    "- необязательный блок **finally** выполняется в любом случае после выполнения (или невыполнения) всех других блоков\n",
    "\n",
    "Поймать все типы ошибок можно так:\n",
    "```python\n",
    "try:\n",
    "    pass\n",
    "except Exception as e:  # или except:\n",
    "    print(e)\n",
    "```"
   ]
  },
  {
   "cell_type": "code",
   "execution_count": 15,
   "metadata": {},
   "outputs": [
    {
     "name": "stdout",
     "output_type": "stream",
     "text": [
      "This is TypeError\n",
      "[<class 'TypeError'>, <class 'Exception'>, <class 'BaseException'>, <class 'object'>]\n"
     ]
    }
   ],
   "source": [
    "try:\n",
    "    x = [11, 10, 'string']\n",
    "    x.sort()\n",
    "    print(x)\n",
    "    # создание объекта исключения\n",
    "except TypeError:  # isinstance(error, TypeError) == True\n",
    "    print('This is TypeError')\n",
    "    \n",
    "print(TypeError.mro())"
   ]
  },
  {
   "cell_type": "code",
   "execution_count": 25,
   "metadata": {},
   "outputs": [
    {
     "name": "stdout",
     "output_type": "stream",
     "text": [
      "Type Error\n",
      "finally \n",
      "\n",
      "<class 'ZeroDivisionError'>\n",
      "division by zero\n",
      "('division by zero',)\n",
      "finally \n",
      "\n",
      "5.0\n",
      "No errors,\n",
      "finally \n",
      "\n"
     ]
    }
   ],
   "source": [
    "def f(x, y):\n",
    "    try:\n",
    "        print(x / y)\n",
    "    except TypeError:\n",
    "        print('Type Error')\n",
    "    except ZeroDivisionError as e:\n",
    "        print(type(e))\n",
    "        print(e)\n",
    "        print(e.args)\n",
    "    except (NameError, IndexError):\n",
    "        pass\n",
    "    else:\n",
    "        print('No errors,')  # если исключений не возникло\n",
    "    finally:\n",
    "        print('finally \\n')  # выполняется в любом случае\n",
    "\n",
    "f(5, 'str')\n",
    "f(5, 0)\n",
    "f(5, 1)"
   ]
  },
  {
   "cell_type": "markdown",
   "metadata": {},
   "source": [
    "### Пример:\n",
    "\n",
    "Дано описание наследования классов исключений. В первой строке входных данных: n — число классов исключений. В следующих n строках содержится описание наследования классов в виде `<class1> : <class2> ... <class3>`, где `<class2> ... <class3>` — прямые предки `<class1>`.\n",
    "\n",
    "В следующей строке: m — количество обрабатываемых исключений в конструкции **try/except**. Следующие m строк содержат имена исключений в том порядке, в каком они были написаны в коде.\n",
    "\n",
    "Из-за наследования классов некоторые исключения можно не ловить, так как ранее в коде будет пойман их предок. Напишем программу, которая будет определять какие исключения можно удалить из кода.\n",
    "\n",
    "Например, для кода:\n",
    "\n",
    "```python\n",
    "try:\n",
    "   foo()\n",
    "except ZeroDivision :\n",
    "   print(\"ZeroDivision\")\n",
    "except OSError:\n",
    "   print(\"OSError\")\n",
    "except ArithmeticError:\n",
    "   print(\"ArithmeticError\")\n",
    "except FileNotFoundError:\n",
    "   print(\"FileNotFoundError\")\n",
    "```\n",
    "\n",
    "```\n",
    "Sample Input:\n",
    "4\n",
    "ArithmeticError\n",
    "ZeroDivisionError : ArithmeticError\n",
    "OSError\n",
    "FileNotFoundError : OSError\n",
    "4\n",
    "ZeroDivisionError\n",
    "OSError\n",
    "ArithmeticError\n",
    "FileNotFoundError\n",
    "\n",
    "Sample Output:\n",
    "FileNotFoundError\n",
    "```"
   ]
  },
  {
   "cell_type": "code",
   "execution_count": null,
   "metadata": {},
   "outputs": [],
   "source": [
    "#"
   ]
  },
  {
   "cell_type": "markdown",
   "metadata": {},
   "source": [
    "### 4.2. Создание своих исключений\n",
    "\n",
    "Кроме ошибок для стандартных операций, можно самому решать, что такое ошибка для данной программы, т.е. \"**бросать/ловить**\" исключения (**throw/catch** errors). Чтобы **бросить** исключение используется конструкция **raise**:"
   ]
  },
  {
   "cell_type": "code",
   "execution_count": 27,
   "metadata": {},
   "outputs": [
    {
     "name": "stdin",
     "output_type": "stream",
     "text": [
      "Your name: bob\n"
     ]
    },
    {
     "name": "stdout",
     "output_type": "stream",
     "text": [
      "Try again\n"
     ]
    },
    {
     "name": "stdin",
     "output_type": "stream",
     "text": [
      "Your name: Bob\n"
     ]
    },
    {
     "name": "stdout",
     "output_type": "stream",
     "text": [
      "Hello, Bob\n"
     ]
    }
   ],
   "source": [
    "def greet(name):\n",
    "    if name[0].isupper():  # начинается ли name с заглавной буквы\n",
    "        return 'Hello, ' + name\n",
    "    else:\n",
    "        raise ValueError(name + ' is inappropriate name')\n",
    "\n",
    "while True:\n",
    "    try:\n",
    "        name = input('Your name:')\n",
    "        print(greet(name))\n",
    "    except ValueError:\n",
    "        print('Try again')\n",
    "    else:\n",
    "        break"
   ]
  },
  {
   "cell_type": "markdown",
   "metadata": {},
   "source": [
    "Все описанные исключения должны быть экземплярами класса **BaseException** (встроенный тип языка Python). Иногда нет такого класса исключений, который бы хорошо описывал именну ту ошибку, которая происходит в коде. Тогда следует описать новый класс исключений, наследуемый от **BaseException**:"
   ]
  },
  {
   "cell_type": "code",
   "execution_count": 29,
   "metadata": {},
   "outputs": [
    {
     "ename": "BadName",
     "evalue": "bob is inappropriate name",
     "output_type": "error",
     "traceback": [
      "\u001b[1;31m---------------------------------------------------------------------------\u001b[0m",
      "\u001b[1;31mBadName\u001b[0m                                   Traceback (most recent call last)",
      "\u001b[1;32m<ipython-input-29-2f8d2c3ac58c>\u001b[0m in \u001b[0;36m<module>\u001b[1;34m\u001b[0m\n\u001b[0;32m      8\u001b[0m         \u001b[1;32mraise\u001b[0m \u001b[0mBadName\u001b[0m\u001b[1;33m(\u001b[0m\u001b[0mname\u001b[0m \u001b[1;33m+\u001b[0m \u001b[1;34m' is inappropriate name'\u001b[0m\u001b[1;33m)\u001b[0m\u001b[1;33m\u001b[0m\u001b[1;33m\u001b[0m\u001b[0m\n\u001b[0;32m      9\u001b[0m \u001b[1;33m\u001b[0m\u001b[0m\n\u001b[1;32m---> 10\u001b[1;33m \u001b[0mgreet\u001b[0m\u001b[1;33m(\u001b[0m\u001b[1;34m'bob'\u001b[0m\u001b[1;33m)\u001b[0m\u001b[1;33m\u001b[0m\u001b[1;33m\u001b[0m\u001b[0m\n\u001b[0m",
      "\u001b[1;32m<ipython-input-29-2f8d2c3ac58c>\u001b[0m in \u001b[0;36mgreet\u001b[1;34m(name)\u001b[0m\n\u001b[0;32m      6\u001b[0m         \u001b[1;32mreturn\u001b[0m \u001b[1;34m'Hello, '\u001b[0m \u001b[1;33m+\u001b[0m \u001b[0mname\u001b[0m\u001b[1;33m\u001b[0m\u001b[1;33m\u001b[0m\u001b[0m\n\u001b[0;32m      7\u001b[0m     \u001b[1;32melse\u001b[0m\u001b[1;33m:\u001b[0m\u001b[1;33m\u001b[0m\u001b[1;33m\u001b[0m\u001b[0m\n\u001b[1;32m----> 8\u001b[1;33m         \u001b[1;32mraise\u001b[0m \u001b[0mBadName\u001b[0m\u001b[1;33m(\u001b[0m\u001b[0mname\u001b[0m \u001b[1;33m+\u001b[0m \u001b[1;34m' is inappropriate name'\u001b[0m\u001b[1;33m)\u001b[0m\u001b[1;33m\u001b[0m\u001b[1;33m\u001b[0m\u001b[0m\n\u001b[0m\u001b[0;32m      9\u001b[0m \u001b[1;33m\u001b[0m\u001b[0m\n\u001b[0;32m     10\u001b[0m \u001b[0mgreet\u001b[0m\u001b[1;33m(\u001b[0m\u001b[1;34m'bob'\u001b[0m\u001b[1;33m)\u001b[0m\u001b[1;33m\u001b[0m\u001b[1;33m\u001b[0m\u001b[0m\n",
      "\u001b[1;31mBadName\u001b[0m: bob is inappropriate name"
     ]
    }
   ],
   "source": [
    "class BadName(Exception):\n",
    "    pass\n",
    "\n",
    "def greet(name):\n",
    "    if name[0].isupper():  # начинается ли name с заглавной буквы\n",
    "        return 'Hello, ' + name\n",
    "    else:\n",
    "        raise BadName(name + ' is inappropriate name')\n",
    "\n",
    "greet('bob')"
   ]
  },
  {
   "cell_type": "markdown",
   "metadata": {},
   "source": [
    "### Пример:\n",
    "\n",
    "Реализуем класс **PositiveList**, отнаследовав его от класса **list**, для хранения положительных целых чисел. Также реализуем новое исключение **NonPositiveError**. В классе **PositiveList** переопределим метод **append(self, el)** таким образом, чтобы при попытке добавить неположительное целое число бросалось исключение **NonPositiveError** и число не добавлялось, а при попытке добавить положительное целое число, число добавлялось бы как в стандартный **list**."
   ]
  },
  {
   "cell_type": "code",
   "execution_count": null,
   "metadata": {},
   "outputs": [],
   "source": [
    "#"
   ]
  },
  {
   "cell_type": "markdown",
   "metadata": {},
   "source": [
    "---\n",
    "## 5. Модули в Python\n",
    "\n",
    "Часто возникает необходимость использовать функции, классы и переменные из одного файла внутри другого, для это используются модули. После вызова модуля с помощью **import** он исполнится полностью и будут доступны имена из его пространства имён.\n",
    "\n",
    "### 5.1. Импортирование модулей\n",
    "\n",
    "- модуль может содержать ресурсоёмкий код для вычисления каких-то значений, которые не нужны при импортировании. Для разрешения этой ситуации используется условная конструкция, в которой определяется, является ли данный файл главным или вызываемым как модуль (https://docs.python.org/3/library/__main__.html)\n",
    "\n",
    "```python\n",
    "def main():\n",
    "    print(__name__)\n",
    "    print(fib(31))\n",
    "\n",
    "def fib(k):\n",
    "    if k == 0 or k == 1:\n",
    "        return 1\n",
    "    else:\n",
    "        return fib(k - 1) + fib(k - 2)\n",
    "\n",
    "if __name__ == '__main__':\n",
    "    main()\n",
    "```"
   ]
  },
  {
   "cell_type": "code",
   "execution_count": 40,
   "metadata": {},
   "outputs": [
    {
     "data": {
      "text/plain": [
       "5"
      ]
     },
     "execution_count": 40,
     "metadata": {},
     "output_type": "execute_result"
    }
   ],
   "source": [
    "import fib\n",
    "fib.fib(4)"
   ]
  },
  {
   "cell_type": "markdown",
   "metadata": {},
   "source": [
    "- при импорте модуля создаётся запись в словаре **sys.modules** (ключи — имена модулей, значения — объекты модулей) и при повторном вызове модуля, новый объект уже не создаётся, а используется уже имеющийся (т.е. модуль исполняется только при первом вызове)\n",
    "\n",
    "- если имя модуля не найдено в **sys.modules**, то затем оно ищется в текущей директории и внешних библиотеках (в порядке указанном в **sys.path**). В библиотеках модули представлены папками (**пакетами**), это удобный способ представления некоторого числа файлов в виде одного модуля. Интерпретатор определяет является ли папка **пакетом** по наличию в ней файла **\\_\\_init\\_\\_.py** (исполняется при импорте)"
   ]
  },
  {
   "cell_type": "markdown",
   "metadata": {},
   "source": [
    "### Пример:\n",
    "В первой строке даны три числа, соответствующие некоторой дате — год, месяц и день. Во второй строке — число дней. Нужно вычислить и вывести год, месяц и день даты, которая наступит, когда с момента исходной даты date пройдет число дней, равное days."
   ]
  },
  {
   "cell_type": "code",
   "execution_count": 19,
   "metadata": {},
   "outputs": [
    {
     "name": "stdin",
     "output_type": "stream",
     "text": [
      "date: 2016 4 20\n",
      "days: 14\n"
     ]
    },
    {
     "name": "stdout",
     "output_type": "stream",
     "text": [
      "2016 5 4\n"
     ]
    }
   ],
   "source": [
    "#"
   ]
  },
  {
   "cell_type": "markdown",
   "metadata": {},
   "source": [
    "### 5.2. Частичное импортирование\n",
    "\n",
    "- можно импортировать модуль не полностью с помощью конструкции `from <mod> import <func>` (`as mod_func`).\n",
    "\n",
    "- через конструкцию `from <mod> import *` импортируются не все имена модуля, а только те, которые обозначены в списке **\\_\\_all\\_\\_** внутри модуля; если же этот список не обозначен, то импортируются все имена, кроме начинающихся с нижнего подчёркивания.\n",
    "\n",
    "### 5.3. Пример\n",
    "\n",
    "[Репозиторий пакетов PyPi](https://pypi.python.org/pypi)  \n",
    "[Репозиторий пакетов Anaconda](https://anaconda.org/)\n",
    "\n",
    "Установить библиотеку **simple-crypt** и с помощью метода **decrypt** узнать, какой из паролей служит ключом для расшифровки файла **encrypted.bin** с интересной информацией."
   ]
  },
  {
   "cell_type": "markdown",
   "metadata": {},
   "source": [
    "---\n",
    "## 6. Итераторы и генераторы\n",
    "\n",
    "Для того, чтобы перебирать элементы объекта с помощью цикла **for**, необходимо, чтобы у этого объекта был **итератор** (объект-перечислитель, который отвечает, какой элемент следующий, или бросающий ошибку StopIteration, если элемент последний).\n",
    "\n",
    "**Итератор** — объект, для которого задан метод **\\_\\_next\\_\\_**."
   ]
  },
  {
   "cell_type": "code",
   "execution_count": 46,
   "metadata": {},
   "outputs": [
    {
     "name": "stdout",
     "output_type": "stream",
     "text": [
      "1 2 3\n",
      "1 2 3 \n",
      "1 2 3 "
     ]
    }
   ],
   "source": [
    "ls = [1, 2, 3]\n",
    "\n",
    "it = iter(ls)\n",
    "print(next(it), end=' ')\n",
    "print(next(it), end=' ')\n",
    "print(next(it))\n",
    "# эквивалентно\n",
    "for el in ls:\n",
    "    print(el, end=' ')\n",
    "print()\n",
    "# эквивалентно\n",
    "it = iter(ls)\n",
    "while True:\n",
    "    try:\n",
    "        el = next(it)\n",
    "        print(el, end=' ')\n",
    "    except StopIteration:\n",
    "        break"
   ]
  },
  {
   "cell_type": "markdown",
   "metadata": {},
   "source": [
    "### 6.1. Создание итераторов\n",
    "\n",
    "Можно создавать свои итераторы, рассмотрим, например, итератор, который будет перебирать k случайных чисел из диапазона [0, 1]:"
   ]
  },
  {
   "cell_type": "code",
   "execution_count": 15,
   "metadata": {},
   "outputs": [
    {
     "name": "stdout",
     "output_type": "stream",
     "text": [
      "0.6409533254365358\n",
      "0.3046946318193344\n",
      "0.5844423813242209\n"
     ]
    }
   ],
   "source": [
    "from random import random\n",
    "\n",
    "class RandomIterator:\n",
    "    def __init__(self, k):\n",
    "        self.k = k  # количество перебираемых случайных чисел\n",
    "        self.i = 0  # количество уже перебранных итератором чисел\n",
    "\n",
    "    def __next__(self):\n",
    "        if self.i < self.k:\n",
    "            self.i += 1\n",
    "            return random()\n",
    "        else:\n",
    "            raise StopIteration\n",
    "\n",
    "it = RandomIterator(3)\n",
    "print(next(it))  # next(it) ~ it.__next__()\n",
    "print(next(it))\n",
    "print(next(it))\n",
    "# print(next(it))  # ошибка StopIteration"
   ]
  },
  {
   "cell_type": "markdown",
   "metadata": {},
   "source": [
    "Чтобы элементы экземпляра какого-либо класса можно было перебирать (итерировать), в этом классе должна быть задана функция **\\_\\_iter\\_\\_**, которая возвращает итератор.\n",
    "\n",
    "**Замечание:** функции **\\_\\_iter\\_\\_** и **\\_\\_next\\_\\_** могут быть определены в одном и том же классе, тогда экземпляры этого класса одновременно будут являться и итераторами, и итерируемыми объектами (но так делать не стоит во избежание путаницы?)."
   ]
  },
  {
   "cell_type": "code",
   "execution_count": 47,
   "metadata": {},
   "outputs": [
    {
     "name": "stdout",
     "output_type": "stream",
     "text": [
      "(1, 2) (3, 4) (5, 6) (7, 8) "
     ]
    }
   ],
   "source": [
    "class double_el_list_iterator:                                  # класс итератора\n",
    "    def __init__(self, ls):\n",
    "        if len(ls) % 2 == 0:\n",
    "            self.ls = ls                                        # что за объект будет итерироваться\n",
    "            self.i = 0                                          # число уже перебранных элементов\n",
    "        else:\n",
    "            raise IndexError('Odd number of elements in list')  # ошибка, если число элементов списка нечётное\n",
    "\n",
    "    def __next__(self):\n",
    "        if self.i < len(self.ls):\n",
    "            self.i += 2\n",
    "            return self.ls[self.i - 2], self.ls[self.i - 1]\n",
    "        else:\n",
    "            raise StopIteration\n",
    "\n",
    "class MyList(list):                                             # класс итерирумого объекта\n",
    "    def __iter__(self):\n",
    "        return double_el_list_iterator(self)                    # создание итератора для экземпляра данного класса\n",
    "\n",
    "\n",
    "for pair in MyList([1, 2, 3, 4, 5, 6, 7, 8]):\n",
    "    print(pair, end=' ')"
   ]
  },
  {
   "cell_type": "markdown",
   "metadata": {},
   "source": [
    "### 6.2. Генераторы\n",
    "\n",
    "Можно создавать итераторы без использования классов, для этого есть генераторы. **Генераторы** — это удобный синтаксис для написания итераторов; они ведут себя как функции, которые могут последовательно возвращать сразу несколько значений (т.о. в Python с помощью генераторов реализуется концепция отложенного исполнения).\n",
    "\n",
    "Исполнение функции-генератора начнётся, когда у него попросят следующий элемент, тогда функция начнёт исполняться до первого **yield**. После этого генератор вернёт значение из функции, при этом запомнив своё состояние для того, чтобы при следующем вызове продолжить выполнение с места остановки. После следующего вызова выполнение продолжится до следующего **yield** (если это слово есть), если его нет, генератор дойдёт до конца тела функции и завершит исполнение, выдав StopIteration."
   ]
  },
  {
   "cell_type": "code",
   "execution_count": 17,
   "metadata": {},
   "outputs": [
    {
     "name": "stdout",
     "output_type": "stream",
     "text": [
      "0.9379889021282052\n",
      "0.6123091897955026\n",
      "0.2516697669526443\n"
     ]
    }
   ],
   "source": [
    "def random_generator(k):\n",
    "    for i in range(k):\n",
    "        yield random()\n",
    "\n",
    "gen = random_generator(3)\n",
    "for i in gen:\n",
    "    print(i)"
   ]
  },
  {
   "cell_type": "code",
   "execution_count": 19,
   "metadata": {},
   "outputs": [
    {
     "name": "stdout",
     "output_type": "stream",
     "text": [
      "checkpoint 1\n",
      "1\n",
      "checkpoint 2\n",
      "2\n"
     ]
    }
   ],
   "source": [
    "def simple_gen():\n",
    "    print('checkpoint 1')\n",
    "    yield 1\n",
    "    print('checkpoint 2')\n",
    "    yield 2\n",
    "    print('checkpoint 3')\n",
    "\n",
    "gen = simple_gen()\n",
    "print(next(gen))\n",
    "print(next(gen))\n",
    "# print(next(gen))  # StopIteration"
   ]
  },
  {
   "cell_type": "markdown",
   "metadata": {},
   "source": [
    "Внутри генератора можно также использовать слово **return**, когда интерпретатор его прочитает, то генератор остановит свое выполнение и вернёт ошибку StopIteration. Если же **return** в теле генератора нет, то он закончит своё выполнение после последней строчки."
   ]
  },
  {
   "cell_type": "code",
   "execution_count": 21,
   "metadata": {},
   "outputs": [
    {
     "name": "stdout",
     "output_type": "stream",
     "text": [
      "checkpoint 1\n",
      "1\n",
      "checkpoint 2\n"
     ]
    },
    {
     "ename": "StopIteration",
     "evalue": "No more elements",
     "output_type": "error",
     "traceback": [
      "\u001b[1;31m---------------------------------------------------------------------------\u001b[0m",
      "\u001b[1;31mStopIteration\u001b[0m                             Traceback (most recent call last)",
      "\u001b[1;32m<ipython-input-21-922f1aa0a932>\u001b[0m in \u001b[0;36m<module>\u001b[1;34m\u001b[0m\n\u001b[0;32m      9\u001b[0m \u001b[0mgen\u001b[0m \u001b[1;33m=\u001b[0m \u001b[0msimple_gen\u001b[0m\u001b[1;33m(\u001b[0m\u001b[1;33m)\u001b[0m\u001b[1;33m\u001b[0m\u001b[1;33m\u001b[0m\u001b[0m\n\u001b[0;32m     10\u001b[0m \u001b[0mprint\u001b[0m\u001b[1;33m(\u001b[0m\u001b[0mnext\u001b[0m\u001b[1;33m(\u001b[0m\u001b[0mgen\u001b[0m\u001b[1;33m)\u001b[0m\u001b[1;33m)\u001b[0m\u001b[1;33m\u001b[0m\u001b[1;33m\u001b[0m\u001b[0m\n\u001b[1;32m---> 11\u001b[1;33m \u001b[0mprint\u001b[0m\u001b[1;33m(\u001b[0m\u001b[0mnext\u001b[0m\u001b[1;33m(\u001b[0m\u001b[0mgen\u001b[0m\u001b[1;33m)\u001b[0m\u001b[1;33m)\u001b[0m\u001b[1;33m\u001b[0m\u001b[1;33m\u001b[0m\u001b[0m\n\u001b[0m",
      "\u001b[1;31mStopIteration\u001b[0m: No more elements"
     ]
    }
   ],
   "source": [
    "def simple_gen():\n",
    "    print('checkpoint 1')\n",
    "    yield 1\n",
    "    print('checkpoint 2')\n",
    "    return 'No more elements'\n",
    "    yield 2                # не исполняется\n",
    "    print('checkpoint 3')  # не исполняется\n",
    "\n",
    "gen = simple_gen()\n",
    "print(next(gen))\n",
    "print(next(gen))"
   ]
  },
  {
   "cell_type": "markdown",
   "metadata": {},
   "source": [
    "### 6.3. Фильтры\n",
    "\n",
    "Часто используемый в Python класс — **filter**, он принимает в конструкторе два аргумента: a и f — последовательность и функцию, и позволяет проитерироваться только по таким элементам последовательности a, что `f(el) == True` (говорят, что функция f допускает элемент el, а элемент el является допущенным).\n",
    "\n",
    "```python\n",
    "def even(x):\n",
    "    return x % 2 == 0\n",
    "\n",
    "evens = list(filter(even, [3, 4, 6, 7, 10]))\n",
    ">>> [4, 6, 10]\n",
    "```\n",
    "\n",
    "Реализуем класс **multifilter**, аналогичный классу **filter**, но использующий несколько функций на входе, при этом допуск/недопуск элемента определяется соотношением pos/neg между количествами функций, допустивших и не допустивших этот элемент. Этот механизм реализуется решающей функцией (принимает на вход количества pos и neg; возвращает True, если элемент допущен, и False иначе).\n",
    "\n",
    "**1. Рализация с помощью генератора:**"
   ]
  },
  {
   "cell_type": "code",
   "execution_count": 30,
   "metadata": {},
   "outputs": [
    {
     "name": "stdout",
     "output_type": "stream",
     "text": [
      "[0, 2, 3, 4, 5, 6, 8, 9, 10, 12, 14, 15, 16, 18, 20, 21, 22, 24, 25, 26, 27, 28, 30]\n",
      "[0, 6, 10, 12, 15, 18, 20, 24, 30]\n",
      "[0, 30]\n"
     ]
    }
   ],
   "source": [
    "#"
   ]
  },
  {
   "cell_type": "markdown",
   "metadata": {},
   "source": [
    "**2. Реализация с помощью итератора:**"
   ]
  },
  {
   "cell_type": "code",
   "execution_count": 32,
   "metadata": {},
   "outputs": [],
   "source": [
    "#"
   ]
  },
  {
   "cell_type": "markdown",
   "metadata": {},
   "source": [
    "Реализуем функцию-генератор **primes**, вывводящую простые числа в порядке возрастания, начиная с числа 2:"
   ]
  },
  {
   "cell_type": "code",
   "execution_count": 43,
   "metadata": {},
   "outputs": [
    {
     "name": "stdout",
     "output_type": "stream",
     "text": [
      "2 3 5 7 11 13 17 19 23 29 "
     ]
    }
   ],
   "source": [
    "#"
   ]
  },
  {
   "cell_type": "markdown",
   "metadata": {},
   "source": [
    "### 6.4. Генерация списков (list comprehension)\n",
    "\n",
    "В Python существует синтаксис для упрощённого создания списков, множеств, словарей и генераторов:"
   ]
  },
  {
   "cell_type": "code",
   "execution_count": 52,
   "metadata": {},
   "outputs": [
    {
     "name": "stdout",
     "output_type": "stream",
     "text": [
      "[-2, -1, 0, 1, 2]\n",
      "[4, 1, 0, 1, 4]\n",
      "[0, 1, 4]\n",
      "[(0, 0), (0, 1), (0, 2), (1, 1), (1, 2), (2, 2)]\n",
      "(0, 0) (0, 1) (0, 2) (1, 1) (1, 2) (2, 2) "
     ]
    }
   ],
   "source": [
    "ls1 = [-2, -1, 0, 1 , 2]\n",
    "ls2 = [i**2 for i in ls1]\n",
    "ls3 = [i**2 for i in ls1 if i >= 0]\n",
    "ls4 = [(i, j) for i in range(3) for j in range(3) if j >= i]  # список кортежей\n",
    "gen = ((i, j) for i in range(3) for j in range(3) if j >= i)  # генератор\n",
    "\n",
    "print(ls1)\n",
    "print(ls2)\n",
    "print(ls3)\n",
    "print(ls4)\n",
    "for i in gen:\n",
    "    print(i, end=' ')"
   ]
  },
  {
   "cell_type": "code",
   "execution_count": 53,
   "metadata": {},
   "outputs": [
    {
     "name": "stdout",
     "output_type": "stream",
     "text": [
      "{0, 1, 4}\n",
      "{-2: 4, -1: 1, 0: 0, 1: 1, 2: 4}\n"
     ]
    }
   ],
   "source": [
    "s = {i**2 for i in ls1}\n",
    "d = {i:i**2 for i in ls1}\n",
    "print(s)\n",
    "print(d)"
   ]
  },
  {
   "cell_type": "markdown",
   "metadata": {},
   "source": [
    "---\n",
    "## 7. Работа с файлами\n",
    "\n",
    "1. Текстовые\n",
    "2. Бинарные (двоичные)\n",
    "\n",
    "### 7.1. Текстовые файлы\n",
    "\n",
    "Функция **open** возвращает объект типа файл. После завершения работы с файлом, его следует закрывать методом **close** для освобождения ресурсов (или же работать с файлом с помощью конструкции **with**)."
   ]
  },
  {
   "cell_type": "raw",
   "metadata": {},
   "source": [
    "r (read)   — для чтения (по умолчанию)\n",
    "w (write)  — для записи (содержимое стирается)\n",
    "a (append) — для дозаписи\n",
    "b (binary) — открыть в бинарном режиме\n",
    "t (text)   — открыть в текстовом режиме\n",
    "r+         — для чтения и записи\n",
    "w+         — для чтения и записи (содержимое стирается)"
   ]
  },
  {
   "cell_type": "code",
   "execution_count": 29,
   "metadata": {},
   "outputs": [
    {
     "name": "stdout",
     "output_type": "stream",
     "text": [
      "1 3\n",
      "\n",
      "2 5\n",
      "\n",
      "4 7\n",
      "7 14\n",
      "8 16\n",
      "9 23\n",
      "['1 3', '2 5', '4 7', '7 14', '8 16', '9 23']\n"
     ]
    }
   ],
   "source": [
    "f = open(\"data/000_demodata.txt\")  # encoding='utf-8' для кириллицы\n",
    "print(f.readline())                # чтение строки\n",
    "print(f.read(3))                   # чтение 3 символов (включая \\n, \\t, etc.)\n",
    "print(f.read())                    # чтение всего файла\n",
    "f.seek(0)                          # указатель на начало файла\n",
    "print(f.read().splitlines())       # список из строк текстового файла (или f.readlines() — со служебными символами)\n",
    "f.close()"
   ]
  },
  {
   "cell_type": "code",
   "execution_count": 25,
   "metadata": {},
   "outputs": [
    {
     "name": "stdout",
     "output_type": "stream",
     "text": [
      "line1\n",
      "line2\n",
      "line3\n"
     ]
    },
    {
     "data": {
      "text/plain": [
       "'7 14\\n'"
      ]
     },
     "execution_count": 25,
     "metadata": {},
     "output_type": "execute_result"
    }
   ],
   "source": [
    "lines = ['line1', 'line2', 'line3']\n",
    "print('\\n'.join(lines))\n",
    "\n",
    "from linecache import getline\n",
    "getline(\"data/000_demodata.txt\", 4)        # прочитать 4-ую строку из файла"
   ]
  },
  {
   "cell_type": "markdown",
   "metadata": {},
   "source": [
    "Если файл большой, то для экономии памяти его следует считывать построчно. Удобнее всего это делать в цикле for, т.к. экземпляры файлового класса — это итерируемые объекты."
   ]
  },
  {
   "cell_type": "code",
   "execution_count": 17,
   "metadata": {},
   "outputs": [
    {
     "name": "stdout",
     "output_type": "stream",
     "text": [
      "this is first line\n",
      "this is second line\n",
      "bruh\n"
     ]
    }
   ],
   "source": [
    "with open(\"data/005_test_read.txt\") as f:\n",
    "    for line in f:\n",
    "        line = line.rstrip()               # rstrip(symb) убирает справа symb (по умолчанию — \\t, \\n, spaces, etc.)\n",
    "        print(line)                        # lstrip — слева, strip — с обеих сторон\n",
    "\n",
    "# for (st,i) in enumerate(inf,n):          # итерация по строках с индексами (n - начальный индекс)"
   ]
  },
  {
   "cell_type": "markdown",
   "metadata": {},
   "source": [
    "### 7.2. Работа с директориями\n",
    "\n",
    "Для работы с директориями используются модули **os** и **shutil**."
   ]
  },
  {
   "cell_type": "code",
   "execution_count": 1,
   "metadata": {},
   "outputs": [],
   "source": [
    "import os.path\n",
    "\n",
    "print(os.getcwd())                         # pwd\n",
    "print(os.listdir(\"data\"))                  # ls в виде списка\n",
    "print(os.path.exists(\"data/objects.PNG\"))  # существует ли файл или папка\n",
    "print(os.path.isfile(\"data\"))              # файл?\n",
    "print(os.path.isdir(\"data\"))               # папка?\n",
    "print(os.path.abspath(\"data/\"))            # абсолютный путь по относительному\n",
    "os.chdir(\"data/\")                          # cd\n",
    "os.chdir(\"..\")"
   ]
  },
  {
   "cell_type": "markdown",
   "metadata": {},
   "source": [
    "Чтобы рекурсивно получить список файлов и папок в директории используют функцию **os.walk**. Это генератор, который возвращает кортеж из трёх элементов (рассматриваемая директория, список подпапок директории, список файлов в директории)."
   ]
  },
  {
   "cell_type": "code",
   "execution_count": 2,
   "metadata": {},
   "outputs": [],
   "source": [
    "for wdir, dirs, files in os.walk(\"Image Processing\"):\n",
    "    print(wdir, dirs, files)"
   ]
  },
  {
   "cell_type": "code",
   "execution_count": 57,
   "metadata": {},
   "outputs": [
    {
     "data": {
      "text/plain": [
       "'data/005_test_read(copy).txt'"
      ]
     },
     "execution_count": 57,
     "metadata": {},
     "output_type": "execute_result"
    }
   ],
   "source": [
    "import shutil\n",
    "\n",
    "shutil.copy(\"data/005_test_read.txt\", \"data/005_test_read(copy).txt\")  # shutil.copytree(d1, d2) для папок"
   ]
  },
  {
   "cell_type": "markdown",
   "metadata": {},
   "source": [
    "### Пример:\n",
    "\n",
    "Дана файловая структура, состоящая из директорий и файлов, необходимо найти в ней все директории, в которых есть хотя бы один файл с расширением \".py\". Ответ из списка отсортированных в лексикографическом порядке директорий записать в текстовый файл."
   ]
  },
  {
   "cell_type": "code",
   "execution_count": 70,
   "metadata": {},
   "outputs": [],
   "source": [
    "#"
   ]
  },
  {
   "cell_type": "markdown",
   "metadata": {},
   "source": [
    "---\n",
    "## 8. Функции в Python\n",
    "\n",
    "### 8.1. Лямбда-функции\n",
    "\n",
    "Упрощённый синтаксис для создания функций: `lambda <args>: <func_expression>`"
   ]
  },
  {
   "cell_type": "code",
   "execution_count": 73,
   "metadata": {},
   "outputs": [
    {
     "name": "stdout",
     "output_type": "stream",
     "text": [
      "[4, 6, 10]\n"
     ]
    }
   ],
   "source": [
    "even = lambda x: x % 2 == 0                               # правила для списка параметров стандартные\n",
    "evens = list(filter(even, [1, 4, 6, 7, 10]))\n",
    "print(evens)"
   ]
  },
  {
   "cell_type": "code",
   "execution_count": 83,
   "metadata": {},
   "outputs": [
    {
     "name": "stdout",
     "output_type": "stream",
     "text": [
      "[('John', 'Backus'), ('Haskell', 'Curry'), ('Guido', 'van', 'Rossum')]\n"
     ]
    }
   ],
   "source": [
    "ls = [('Guido', 'van', 'Rossum'),\n",
    "      ('Haskell', 'Curry'),\n",
    "      ('John', 'Backus')]\n",
    "\n",
    "ls.sort(key=lambda name: len(' '.join(name)))             # отсортировать по длине имени\n",
    "print(ls)"
   ]
  },
  {
   "cell_type": "markdown",
   "metadata": {},
   "source": [
    "### 8.2. Библиотеки Operator и Functools\n",
    "\n",
    "### 1. operator\n",
    "\n",
    "Иногда удобно представлять операторы языка в виде функций, для этого существует библиотека **operator**."
   ]
  },
  {
   "cell_type": "code",
   "execution_count": 86,
   "metadata": {},
   "outputs": [
    {
     "name": "stdout",
     "output_type": "stream",
     "text": [
      "4\n",
      "6\n",
      "False\n",
      "2 1 <built-in method sort of list object at 0x000002925CD10A88>\n"
     ]
    }
   ],
   "source": [
    "import operator as op\n",
    "\n",
    "print(op.add(2, 2))\n",
    "print(op.mul(2, 3))\n",
    "\n",
    "ls, d = [1, 2, 3], {'1': 1, '2': 2, '3': 3}\n",
    "print(op.contains(ls, 4))                                 # 4 в ls?\n",
    "f = op.itemgetter(1)                                      # f(x) = x[1]\n",
    "g = op.itemgetter('1')                                    # g(x) = x['1']\n",
    "h = op.attrgetter('sort')                                 # h(x) = x.sort\n",
    "print(f(ls), g(d), h(ls))"
   ]
  },
  {
   "cell_type": "code",
   "execution_count": 85,
   "metadata": {},
   "outputs": [
    {
     "name": "stdout",
     "output_type": "stream",
     "text": [
      "[('John', 'Backus'), ('Haskell', 'Curry'), ('Guido', 'van', 'Rossum')]\n"
     ]
    }
   ],
   "source": [
    "ls = [('Guido', 'van', 'Rossum'),\n",
    "      ('Haskell', 'Curry'),\n",
    "      ('John', 'Backus')]\n",
    "\n",
    "ls.sort(key=op.itemgetter(-1))                            # отсортировать по фамилии\n",
    "print(ls)"
   ]
  },
  {
   "cell_type": "markdown",
   "metadata": {},
   "source": [
    "### 2. functools\n",
    "\n",
    "Функция **partial** из библиотеки **functools** позволяет закрепить за некоторыми параметрами используемой функции определённые значения."
   ]
  },
  {
   "cell_type": "code",
   "execution_count": 87,
   "metadata": {},
   "outputs": [
    {
     "name": "stdout",
     "output_type": "stream",
     "text": [
      "19\n"
     ]
    }
   ],
   "source": [
    "from functools import partial\n",
    "\n",
    "int_2 = partial(int, base=2)                              # ~ int(_, base=2)\n",
    "print(int_2('10011'))"
   ]
  },
  {
   "cell_type": "code",
   "execution_count": 90,
   "metadata": {},
   "outputs": [
    {
     "name": "stdout",
     "output_type": "stream",
     "text": [
      "[('John', 'Backus'), ('Haskell', 'Curry'), ('Guido', 'van', 'Rossum')]\n"
     ]
    }
   ],
   "source": [
    "ls = [('Guido', 'van', 'Rossum'),\n",
    "      ('Haskell', 'Curry'),\n",
    "      ('John', 'Backus')]\n",
    "\n",
    "sort_by_last = partial(list.sort, key=op.itemgetter(-1))  # отсортировать по фамилии\n",
    "sort_by_last(ls)\n",
    "print(ls)"
   ]
  },
  {
   "cell_type": "markdown",
   "metadata": {},
   "source": [
    "### Пример:\n",
    "\n",
    "Реализуем функцию **mod_checker(x, mod=0)**, которая будет генерировать лямбда функцию от одного аргумента y, которая будет возвращать True, если остаток от деления y на x равен mod, и False иначе."
   ]
  },
  {
   "cell_type": "code",
   "execution_count": 94,
   "metadata": {},
   "outputs": [
    {
     "name": "stdout",
     "output_type": "stream",
     "text": [
      "True\n",
      "False\n",
      "True\n"
     ]
    }
   ],
   "source": [
    "#"
   ]
  },
  {
   "cell_type": "markdown",
   "metadata": {},
   "source": [
    "### Бонус:\n",
    "\n",
    "- [PEP8 Style Guide for Python Code](https://www.python.org/dev/peps/pep-0008/)\n",
    "\n",
    "- рекомендуется в теле функций, методов и классов использовать документирующие строки. При этом эти комментарии будут доступны в качестве атрибута **\\_\\_doc\\_\\_**. Подобная документация доступна для всех стандартных функций, классов и модулей"
   ]
  },
  {
   "cell_type": "code",
   "execution_count": 3,
   "metadata": {},
   "outputs": [
    {
     "name": "stdout",
     "output_type": "stream",
     "text": [
      "\n",
      "    mod_cheker(x, mod=0) возвращает ####\n",
      "    \n"
     ]
    }
   ],
   "source": [
    "def mod_checker(x, mod=0):\n",
    "    '''\n",
    "    mod_cheker(x, mod=0) возвращает ####\n",
    "    '''\n",
    "    pass\n",
    "\n",
    "print(mod_checker.__doc__)"
   ]
  },
  {
   "cell_type": "code",
   "execution_count": 101,
   "metadata": {},
   "outputs": [
    {
     "name": "stdout",
     "output_type": "stream",
     "text": [
      "Common pathname manipulations, WindowsNT/95 version.\n",
      "\n",
      "Instead of importing this module directly, import os and refer to this\n",
      "module as os.path.\n",
      "\n"
     ]
    }
   ],
   "source": [
    "import os\n",
    "print(os.path.__doc__)"
   ]
  },
  {
   "cell_type": "markdown",
   "metadata": {},
   "source": [
    "---\n",
    "## 9. Работа с текстом\n",
    "\n",
    "Текстовая информация в Python хранится в объектах строкового типа.\n",
    "\n",
    "### 9.1. Стандартные методы строк"
   ]
  },
  {
   "cell_type": "code",
   "execution_count": 10,
   "metadata": {},
   "outputs": [
    {
     "name": "stdout",
     "output_type": "stream",
     "text": [
      "True\n",
      "3\n",
      "11\n",
      "3\n",
      "2\n",
      "\n",
      "['This', 'is', 'some', 'text']\n",
      "True\n",
      "True\n",
      "This is some code\n",
      "THIS IS SOME TEXT\n",
      "this is some text\n",
      "\n",
      "1 2 3 4\n",
      "1 2 3 4\n"
     ]
    }
   ],
   "source": [
    "st = 'Stringy strings'\n",
    "print('rin' in st)                  # входит ли в строку?\n",
    "print(st.find('ing'))               # индекс первого вхождения (-1 если не входит)\n",
    "print(st.rfind('ing'))              # индекс первого вхождения с конца (-1 если не входит)\n",
    "print(st.index('ing'))              # индекс первого вхождения (ValueError если не входит)\n",
    "print(st.count('ing'))              # число непересекающихся вхождений\n",
    "print()\n",
    "st = 'This is some text'\n",
    "print(st.split(' '))                # разделить и получить список\n",
    "print(st.startswith('This'))\n",
    "print(st.endswith('text'))\n",
    "print(st.replace('text', 'code'))\n",
    "print(st.upper())\n",
    "print(st.lower())\n",
    "print()\n",
    "st = '_*___1 2 3 4___*_'\n",
    "print(st.strip('*_'))                # + lstrip/rstrip (' ' по умолчанию)\n",
    "print(' '.join(['1', '2', '3', '4']))"
   ]
  },
  {
   "cell_type": "markdown",
   "metadata": {},
   "source": [
    "### 9.2. Форматирование строк"
   ]
  },
  {
   "cell_type": "code",
   "execution_count": 16,
   "metadata": {},
   "outputs": [
    {
     "name": "stdout",
     "output_type": "stream",
     "text": [
      "London is the capital of Great Britain\n",
      "Hey, London is the capital of Great Britain, did you know that bruh?\n",
      "Response from https://docs.python.org/3.7/ with code 200\n",
      "Response from https://docs.python.org/3.7/random with code 404\n"
     ]
    }
   ],
   "source": [
    "template = '{} is the capital of {}'\n",
    "print(template.format('London', 'Great Britain'))\n",
    "template = '{1}, {city} is the capital of {country}, did you know that {0}?'   # {#} — позиционные параметры\n",
    "print(template.format('bruh', 'Hey', country='Great Britain', city='London'))  # {<name>} — именные параметры\n",
    "\n",
    "import requests\n",
    "template = 'Response from {0.url} with code {0.status_code}'                   # можно обращаться к атрибутам объектов\n",
    "res = requests.get(\"https://docs.python.org/3.7/\")\n",
    "print(template.format(res))\n",
    "res = requests.get(\"https://docs.python.org/3.7/random\")\n",
    "print(template.format(res))"
   ]
  },
  {
   "cell_type": "code",
   "execution_count": 17,
   "metadata": {},
   "outputs": [
    {
     "name": "stdout",
     "output_type": "stream",
     "text": [
      "Washington is the capital of United States\n",
      "Ottawa is the capital of Canada\n",
      "Paris is the capital of France\n",
      "London is the capital of Great Britain\n"
     ]
    }
   ],
   "source": [
    "d = {\"United States\": \"Washington\",\n",
    "     \"Canada\": \"Ottawa\",\n",
    "     \"France\": \"Paris\",\n",
    "     \"Great Britain\": \"London\"}\n",
    "\n",
    "for country, capital in d.items():\n",
    "    print(f\"{capital} is the capital of {country}\")                            # используя f-строки (самый быстрый метод)"
   ]
  },
  {
   "cell_type": "markdown",
   "metadata": {},
   "source": [
    "### Примеры:\n",
    "\n",
    "1. На вход подаются три строки: st, a, b. Необходимо узнать, после какого минимального количества операций замены a на b в строке st больше не останется вхождений строки a в st. Если операций потребуется более 1000, выведите Impossible."
   ]
  },
  {
   "cell_type": "code",
   "execution_count": 19,
   "metadata": {},
   "outputs": [
    {
     "name": "stdin",
     "output_type": "stream",
     "text": [
      " abababa\n",
      " ab\n",
      " ba\n"
     ]
    },
    {
     "name": "stdout",
     "output_type": "stream",
     "text": [
      "3\n"
     ]
    }
   ],
   "source": [
    "#"
   ]
  },
  {
   "cell_type": "markdown",
   "metadata": {},
   "source": [
    "2. На вход подаются строки st и s. Выведите количество вхождений строки s в строку st (учитывая пересечения)."
   ]
  },
  {
   "cell_type": "code",
   "execution_count": 20,
   "metadata": {},
   "outputs": [
    {
     "name": "stdin",
     "output_type": "stream",
     "text": [
      " abababababa\n",
      " aba\n"
     ]
    },
    {
     "name": "stdout",
     "output_type": "stream",
     "text": [
      "5\n"
     ]
    }
   ],
   "source": [
    "#"
   ]
  },
  {
   "cell_type": "markdown",
   "metadata": {},
   "source": [
    "### 9.3. Регулярные выражения\n",
    "\n",
    "Мощный инструмент для поиска информации в тексте; в Python **регулярные выражения** (regular expressions) представляются стандартной библиотекой **re**. С помощью регулярных выражений описывают шаблон, а затем проверяют подходит ли рассматриваемая строка под данный шаблон. При этом для описания шаблонов используются **сырые строки** (чтобы можно было использовать символ `\\`).\n",
    "\n",
    "```python\n",
    "import re\n",
    "re.match(pattern, st)      # подходит ли начало строки под шаблон (None если нет)\n",
    "re.search(pattern, st)     # найти первую подстроку, подходящую под шаблон\n",
    "re.findall(pattern, st)    # найти все подстроки, подходящие под шаблон\n",
    "re.sub(pattern, repl, st)  # заменить все подстроки, подходящие под шаблон, новой строкой\n",
    "```"
   ]
  },
  {
   "cell_type": "code",
   "execution_count": 21,
   "metadata": {},
   "outputs": [
    {
     "name": "stdout",
     "output_type": "stream",
     "text": [
      "Hello\n",
      "World\n",
      "Hello\\nWorld\n"
     ]
    }
   ],
   "source": [
    "print('Hello\\nWorld')   # обычная строка\n",
    "print(r'Hello\\nWorld')  # сырая строка (raw)"
   ]
  },
  {
   "cell_type": "code",
   "execution_count": 24,
   "metadata": {},
   "outputs": [
    {
     "name": "stdout",
     "output_type": "stream",
     "text": [
      "<re.Match object; span=(0, 3), match='abc'>\n"
     ]
    }
   ],
   "source": [
    "import re\n",
    "\n",
    "pattern = r'abc'\n",
    "st = 'abcde'\n",
    "print(re.match(pattern, st))"
   ]
  },
  {
   "cell_type": "markdown",
   "metadata": {},
   "source": [
    "### Метасимволы\n",
    "\n",
    "Метасимволы `. ^ $ * + ? {} [] \\ | ()` открывают широкие возможности для задания шаблонов. При этом, если нужно использовать их как обычный символ, то нужно добавить `\\` перед символом (т.е. `\\. \\^ \\$` и т.д.)."
   ]
  },
  {
   "cell_type": "raw",
   "metadata": {},
   "source": [
    ".                   : любой символ\n",
    "[]                  : любой символ из указанных (можно задавать диапазонами)\n",
    "^                   : любой символ кроме указанных (также это символ начала строки, а $ конца)\n",
    "*                   : любое количество символа перед звёздочкой (включая ноль раз)\n",
    "+                   : любое количество символа перед плюсом (не включая ноль раз)\n",
    "?                   : 0 или 1 вхождение символа перед вопросом\n",
    "{n,k}               : от n до k вхождений символа перед скобками ({n}: ровно n, {n,}: от n, {,k}: до k)\n",
    "(test)              : группировка символов\n",
    "|                   : или\n",
    "\n",
    "Примечание: * и + возвращают по умолчанию самые длинные выражения (чтобы наоборот: +?)\n",
    "\n",
    "\\d ~ [0-9]          : цифры\n",
    "\\D ~ [^0-9]         : не цифры\n",
    "\\s ~ [ \\t\\n\\r\\f\\v]  : пробельные символы\n",
    "\\S ~ [^ \\t\\n\\r\\f\\v] : не пробельные символы\n",
    "\\w ~ [a-zA-Z0-9_]   : буквы, цифры и _\n",
    "\\W ~ [^a-zA-Z0-9_]  : не буквы, не цифры и не _\n",
    "\\b                  : символ начала или конца слова\n",
    "\\B                  : символ начала или конца не слова\n",
    "\\#                  : выбор группы (выражение в круглых скобках) с номером #"
   ]
  },
  {
   "cell_type": "markdown",
   "metadata": {},
   "source": [
    "### Примеры:\n",
    "\n",
    "1. Символ `[]`"
   ]
  },
  {
   "cell_type": "code",
   "execution_count": 28,
   "metadata": {},
   "outputs": [
    {
     "name": "stdout",
     "output_type": "stream",
     "text": [
      "<re.Match object; span=(0, 3), match='abc'>\n",
      "<re.Match object; span=(0, 3), match='aac'>\n",
      "['aac', 'abc', 'acc']\n",
      "abc, abc, abc\n"
     ]
    }
   ],
   "source": [
    "pattern = r'a[abc]c'  # можно задавать диапазонами [a-c]\n",
    "\n",
    "st1, st2 = 'abc', 'aac'\n",
    "print(re.match(pattern, st1))\n",
    "print(re.match(pattern, st2))\n",
    "\n",
    "st = 'aac, abc, acc'\n",
    "print(re.findall(pattern, st))\n",
    "print(re.sub(pattern, 'abc', st))"
   ]
  },
  {
   "cell_type": "markdown",
   "metadata": {},
   "source": [
    "2. Дана последовательность строк, вывести строки, содержащие \"cat\" в качестве подстроки хотя бы два раза."
   ]
  },
  {
   "cell_type": "markdown",
   "metadata": {},
   "source": [
    "3. Дана последовательность строк, вывести строки, содержащие \"cat\" в качестве слова."
   ]
  },
  {
   "cell_type": "markdown",
   "metadata": {},
   "source": [
    "4. Дана последовательность строк, вывести строки, содержащие две буквы \"z\", между которыми ровно три символа."
   ]
  },
  {
   "cell_type": "markdown",
   "metadata": {},
   "source": [
    "5. Дана последовательность строк, вывести строки, , содержащие обратный слеш \"\\\"."
   ]
  },
  {
   "cell_type": "markdown",
   "metadata": {},
   "source": [
    "6. Дана последовательность строк, вывести строки, содержащие слово, состоящее из двух одинаковых частей (тандемный повтор)."
   ]
  },
  {
   "cell_type": "markdown",
   "metadata": {},
   "source": [
    "7. Дана последовательность строк, в каждой строке замените первое вхождение слова, состоящего только из латинских букв \"a\" (регистр не важен), на слово \"argh\"."
   ]
  },
  {
   "cell_type": "markdown",
   "metadata": {},
   "source": [
    "8. Дана последовательность строк, в каждой строке поменяйте местами две первых буквы в каждом слове, состоящем хотя бы из двух букв (буквой считается символ из группы \\w)."
   ]
  },
  {
   "cell_type": "markdown",
   "metadata": {},
   "source": [
    "9. Дана последовательность строк, в каждой строке замените все вхождения нескольких одинаковых букв на одну букву (буквой считается символ из группы \\w)."
   ]
  },
  {
   "cell_type": "markdown",
   "metadata": {},
   "source": [
    "---\n",
    "## 10. Работа с веб-данными\n",
    "\n",
    "### 10.1. Гипертекст и гиперссылки\n",
    "\n",
    "**Гипертекст** — текст, который содержит в себе ссылки на другие текстовые документы.\n",
    "\n",
    "**HTTP** — протокол обмена гипертекстом (а также любыми другими данными в бинарном виде, например, картинками, музыкой, видео).\n",
    "\n",
    "В общении через http участвуют две стороны: **клиент** делает запрос **серверу** на какой-нибудь ресурс (веб страница или файл), сервер отвечает клиенту. Ресурсы описываются в интернете с помощью **url** (uniform resource locator). Например: https://stepik.org/512 (протокол - домен, хост - путь до ресурса).\n",
    "\n",
    "Вид http запроса (на ru.wikipedia.org/wiki/Python):"
   ]
  },
  {
   "cell_type": "raw",
   "metadata": {},
   "source": [
    "<!-- REQUEST: -->\n",
    "GET /wiki/Python HTTP/1.1\n",
    "<!-- метод, который хотим применить к ресурсу; путь к ресурсу; версия протокола -->\n",
    "<!-- GET позволяет получить данный ресурс (html код страницы, бинарные данные картинки/видео/музыки) -->\n",
    "<!-- POST же используется для изменения данных на сервере (заполнение форм, ввод пароля и т.д.) -->\n",
    "Host: ru.wikimedia.org\n",
    "...\n",
    "\n",
    "<!-- RESPONSE: -->\n",
    "<!-- HEADER: (служебная информация) -->\n",
    "HTTP/1.1 200 OK\n",
    "<!-- версия протокола; статус код; сообщение -->\n",
    "<!-- (200: успешная загрузка страницы) -->\n",
    "Date: Sun, 10 Apr 2016 18:21:18 GMT\n",
    "Content-Type: text/html; charset=UTF-8\n",
    "...\n",
    "\n",
    "<!-- BODY: -->\n",
    "<!DOCTYPE html>\n",
    "<html lang='ru' dir='ltr' class='clietn-nojs'>\n",
    "<head></head>"
   ]
  },
  {
   "cell_type": "markdown",
   "metadata": {},
   "source": [
    "**HTML** — язык разметки гипертекста (используется для составления веб страниц).\n",
    "\n",
    "- как должна выглядеть веб-страница браузер решает, прочитав html документ\n",
    "- чтобы доставать информацию из веб страниц не обязательно знать, что делает каждый тег, достаточно уметь составлять необходимого вида регулярные выражения\n",
    "- **requests** — популярная библиотека для интернет запросов\n",
    "- https://apitester.com/"
   ]
  },
  {
   "cell_type": "code",
   "execution_count": 65,
   "metadata": {},
   "outputs": [
    {
     "name": "stdout",
     "output_type": "stream",
     "text": [
      "200\n",
      "text/html\n"
     ]
    }
   ],
   "source": [
    "import requests\n",
    "\n",
    "res = requests.get(\"https://docs.python.org/3/\")\n",
    "# http GET request, возвращает response object, содержит в себе описание ответа сервера\n",
    "# при запросе можно также указывать параметры (см.документацию)\n",
    "print(res.status_code)\n",
    "print(res.headers['Content-Type'])\n",
    "res.content\n",
    "# содержимое ответа (байтовые строки, так как по умолчанию результат запроса может быть какой-угодно информацией)\n",
    "res.text\n",
    "# содержимое ответа, если запрашивается текст\n",
    "\n",
    "# полученную информацию можно сохранить в файл\n",
    "with open(\"data/python_docs.txt\", 'w') as f:\n",
    "    f.write(res.text)"
   ]
  },
  {
   "cell_type": "markdown",
   "metadata": {},
   "source": [
    "### Примеры:\n",
    "1. На вход подаются две строки, содержащие url двух документов A и B, содержащих гиперссылки. Выведите Yes, если из A в B можно перейти за два перехода, иначе выведите No."
   ]
  },
  {
   "cell_type": "code",
   "execution_count": 60,
   "metadata": {},
   "outputs": [
    {
     "name": "stdout",
     "output_type": "stream",
     "text": [
      "Yes\n"
     ]
    }
   ],
   "source": [
    "#"
   ]
  },
  {
   "cell_type": "markdown",
   "metadata": {},
   "source": [
    "2. На вход подается ссылка на HTML файл. Необходимо скачать его, найти в нём все ссылки вида `<a ... href=\"...\" ... >` и вывести список сайтов, на которые есть ссылка в алфавитном порядке. Сайтом в данной задаче будем называть имя домена вместе с именами поддоменов. То есть, это последовательность символов, которая следует сразу после символов протокола, если он есть, до символов порта или пути, если они есть, за исключением случаев с относительными ссылками вида\n",
    "`<a href=\"../some_path/index.html\">`."
   ]
  },
  {
   "cell_type": "code",
   "execution_count": 61,
   "metadata": {},
   "outputs": [
    {
     "name": "stdout",
     "output_type": "stream",
     "text": [
      "bya.ru\n",
      "mail.ru\n",
      "neerc.ifmo.ru\n",
      "sasd.ifmo.ru\n",
      "stepic.org\n",
      "www.gtu.edu.ge\n",
      "www.kya.ru\n",
      "www.mya.ru\n",
      "www.ya.ru\n"
     ]
    }
   ],
   "source": [
    "#"
   ]
  },
  {
   "cell_type": "markdown",
   "metadata": {},
   "source": [
    "### 10.2. Форматы CSV и JSON\n",
    "\n",
    "**CSV** - табличный формат текстовых данных. В Python есть встроенная библиотека **csv**."
   ]
  },
  {
   "cell_type": "code",
   "execution_count": 19,
   "metadata": {},
   "outputs": [
    {
     "name": "stdout",
     "output_type": "stream",
     "text": [
      "['John', 'Doe', '50', '60', '65']\n",
      "['Bob', 'Smith', '70', '65', '60']\n"
     ]
    }
   ],
   "source": [
    "import csv\n",
    "\n",
    "# ОТКРЫТИЕ:\n",
    "with open(\"data/example_csv.csv\") as f:\n",
    "    reader  = csv.reader(f)                               # deliminter=',' по умолчанию  \n",
    "    for row in reader:\n",
    "        print(row)\n",
    "\n",
    "# ЗАПИСЬ:\n",
    "students = [['John', 'Doe', 50, 60 , 65],\n",
    "            ['Bob', 'Smith', 70, 65, 60]]\n",
    "with open(\"data/example_csv.csv\", 'w', newline='') as f:  # newline='' из-за windows (\\r\\n новая строка)\n",
    "    writer = csv.writer(f, quoting=csv.QUOTE_NONNUMERIC)  # QUOTE_ALL записать с кавычками все данные\n",
    "    writer.writerows(students)\n",
    "    # или\n",
    "    # for student in students:\n",
    "        # writer.writerow(student)"
   ]
  },
  {
   "cell_type": "markdown",
   "metadata": {},
   "source": [
    "### Пример:\n",
    "\n",
    "Дана частичная выборка из датасета зафиксированных преступлений, совершенных в городе Чикаго с 2001 года по настоящее время. Одним из атрибутов преступления является его тип – Primary Type. Узнать тип преступления, которое было зафиксировано максимальное число раз в 2015 году."
   ]
  },
  {
   "cell_type": "markdown",
   "metadata": {},
   "source": [
    "**JSON** — нотация объектов языка JS, изначально использовался только в JS. В Python есть встроенная библиотека **json**.\n",
    "\n",
    "Отличия синтаксиса от Python:\n",
    "- ключом в JSON объекте может быть только строка, при чём строки только внутри двойных кавычек\n",
    "- true и false с маленькой буквы; вместо None Null\n",
    "- кортеж становится списком; нет множеств"
   ]
  },
  {
   "cell_type": "code",
   "execution_count": 23,
   "metadata": {},
   "outputs": [
    {
     "name": "stdout",
     "output_type": "stream",
     "text": [
      "[\n",
      "    {\n",
      "        \"certificate\": true,\n",
      "        \"first name\": \"John\",\n",
      "        \"last name\": \"Doe\",\n",
      "        \"res1\": [\n",
      "            50,\n",
      "            60\n",
      "        ]\n",
      "    },\n",
      "    {\n",
      "        \"certificate\": true,\n",
      "        \"first name\": \"Bob\",\n",
      "        \"last name\": \"Smith\",\n",
      "        \"res\": [\n",
      "            70,\n",
      "            65\n",
      "        ]\n",
      "    }\n",
      "]\n",
      "[{'certificate': True, 'first name': 'John', 'last name': 'Doe', 'res1': [50, 60]}, {'certificate': True, 'first name': 'Bob', 'last name': 'Smith', 'res': [70, 65]}]\n"
     ]
    }
   ],
   "source": [
    "import json\n",
    "\n",
    "student1 = {\n",
    "            'first name': 'John',\n",
    "            'last name': 'Doe',\n",
    "            'res1': [50, 60],\n",
    "            'certificate': True\n",
    "           }\n",
    "\n",
    "student2 = {\n",
    "            'first name': 'Bob',\n",
    "            'last name': 'Smith',\n",
    "            'res': [70, 65],\n",
    "            'certificate': True\n",
    "           }\n",
    "\n",
    "data = [student1, student2]\n",
    "\n",
    "data_json = json.dumps(data, indent=4, sort_keys=True)         # python obj   --> json string\n",
    "print(data_json)\n",
    "data_python = json.loads(data_json)                            # jason string --> python object\n",
    "print(data_python)\n",
    "\n",
    "with open(\"data/students.json\", 'w') as f:\n",
    "    json.dump(data_python, f, indent=4, sort_keys=True)        # python obj   --> json file\n",
    "\n",
    "with open(\"data/students.json\", 'r') as f:\n",
    "    data_python = json.load(f)                                 # json file    --> python object"
   ]
  },
  {
   "cell_type": "markdown",
   "metadata": {},
   "source": [
    "### Пример:\n",
    "\n",
    "Дано описание наследования классов в формате JSON. Описание представляет из себя массив JSON-объектов, которые соответствуют классам. У каждого JSON-объекта есть поле name, которое содержит имя класса, и поле parents, которое содержит список имен прямых предков.\n",
    "\n",
    "Пример:\n",
    "\n",
    "`[{\"name\": \"A\", \"parents\": []}, {\"name\": \"B\", \"parents\": [\"A\", \"C\"]}, {\"name\": \"C\", \"parents\": [\"A\"]}]`\n",
    "\n",
    "Для каждого класса вычислите предком скольких классов он является и выведите эту информацию в лексикографическом порядке."
   ]
  },
  {
   "cell_type": "code",
   "execution_count": 10,
   "metadata": {},
   "outputs": [
    {
     "name": "stdout",
     "output_type": "stream",
     "text": [
      "A : 3\n",
      "B : 1\n",
      "C : 2\n"
     ]
    }
   ],
   "source": [
    "#"
   ]
  },
  {
   "cell_type": "markdown",
   "metadata": {},
   "source": [
    "### 10.3. API\n",
    "\n",
    "API модуля или сервиса — набор функций, констант и методов, которые можно использовать (при этом не обязательно знать как они работают). Будем рассматривать веб API на примере OpenWeatherMap; при этом, чтобы пользоваться сервисом, нужно получить ключ."
   ]
  },
  {
   "cell_type": "code",
   "execution_count": 28,
   "metadata": {},
   "outputs": [
    {
     "name": "stdin",
     "output_type": "stream",
     "text": [
      "City? London\n"
     ]
    },
    {
     "name": "stdout",
     "output_type": "stream",
     "text": [
      "{'temp': 14.47, 'pressure': 1003, 'humidity': 82, 'temp_min': 13, 'temp_max': 16.11}\n",
      "Current temperature in London: 14.47 C\n"
     ]
    }
   ],
   "source": [
    "import requests\n",
    "\n",
    "api_url = \"https://api.openweathermap.org/data/2.5/weather\"\n",
    "city = input('City?')\n",
    "params = {\n",
    "          'q': city,\n",
    "          'appid': '11c0d3dc6093f7442898ee49d2430d20',\n",
    "          'units': 'metric'\n",
    "         }\n",
    "res = requests.get(api_url, params=params)\n",
    "data = res.json()  # returns json.loads(res.text)\n",
    "print(data['main'])\n",
    "print(f\"Current temperature in {city}: {data['main']['temp']} C\")"
   ]
  },
  {
   "cell_type": "markdown",
   "metadata": {},
   "source": [
    "### Пример:\n",
    "\n",
    "Необходимо воспользоваться API сайта numbersapi.com. Дается набор чисел, для каждого из чисел необходимо узнать, существует ли интересный математический факт об этом числе. Выведите Interesting, если существует, и Boring иначе."
   ]
  },
  {
   "cell_type": "markdown",
   "metadata": {},
   "source": [
    "### 10.4. XML\n",
    "\n",
    "**Extendable markup language** — теговый язык разметки, похожий на html и json, но в котором теги и их атрибуты определяет сам пользователь (html используется для отображения данных в браузере, xml — для хранения данных). \n",
    "\n",
    "```xml\n",
    "<studentsList>\n",
    "    <student id=\"1\">  <!-- id=1 — атрибут -->\n",
    "        <firstName>Bob</firstName>\n",
    "        <lastName>Smith</lastName>\n",
    "        <certificate>true</certificate>\n",
    "        <scores>\n",
    "            <res1>70</res1>\n",
    "            <res2>65</res2>\n",
    "            <res3>70</res3>\n",
    "        </scores>\n",
    "    </student>\n",
    "    <student id=\"2\">\n",
    "        <firstName>John</firstName>\n",
    "        <lastName>Doe</lastName>\n",
    "        <certificate>false</certificate>\n",
    "        <scores>\n",
    "            <res1>60</res1>\n",
    "            <res2>55</res2>\n",
    "            <res3>50</res3>\n",
    "        </scores>\n",
    "    </student>\n",
    "</studentsList>\n",
    "```\n",
    "\n",
    "1. Чтение:"
   ]
  },
  {
   "cell_type": "code",
   "execution_count": 7,
   "metadata": {},
   "outputs": [
    {
     "name": "stdout",
     "output_type": "stream",
     "text": [
      "<Element 'studentsList' at 0x000002B6B6BDB4A8> studentsList {} Bob\n",
      "student {'id': '1'}\n",
      "student {'id': '2'}\n"
     ]
    }
   ],
   "source": [
    "from xml.etree import ElementTree\n",
    "\n",
    "tree = ElementTree.parse(\"data/example.xml\")     # возвращает дерево из xml файла\n",
    "root = tree.getroot()                            # root = ElementTree.fromstring(string_xml) для строк\n",
    "print(root, root.tag, root.attrib, root[0][0].text)\n",
    "\n",
    "for child in root:                               # проийтись по элементам дерева \n",
    "    print(child.tag, child.attrib)"
   ]
  },
  {
   "cell_type": "code",
   "execution_count": 13,
   "metadata": {},
   "outputs": [
    {
     "name": "stdout",
     "output_type": "stream",
     "text": [
      "205\n",
      "165\n"
     ]
    }
   ],
   "source": [
    "for el in root.iter('scores'):                   # root.iter('tag') перебрать элементы с тегом 'tag'\n",
    "    score_sum = 0                                # root.findall('tag') перебрать элементы с тегом 'tag' только среди детей\n",
    "    for child in el:\n",
    "        score_sum += int(child.text)\n",
    "    print(score_sum)"
   ]
  },
  {
   "cell_type": "markdown",
   "metadata": {},
   "source": [
    "2. Запись:"
   ]
  },
  {
   "cell_type": "code",
   "execution_count": 20,
   "metadata": {},
   "outputs": [
    {
     "name": "stdout",
     "output_type": "stream",
     "text": [
      "90\n"
     ]
    }
   ],
   "source": [
    "tree = ElementTree.parse(\"data/example_copy.xml\")\n",
    "root = tree.getroot()\n",
    "\n",
    "bob = root[0]\n",
    "res1 = next(bob.iter('res1'))                    # получаем значение элемента 'res1'\n",
    "print(res1.text)\n",
    "res1.text = str(int(res1.text) + 10)             # меняем значение элемента 'res1'\n",
    "certificate = bob[2]\n",
    "certificate.set('type', 'with distinction')      # создать атрубут 'type' со значением 'with distinction'\n",
    "\n",
    "tree.write(\"data/example_copy.xml\")"
   ]
  },
  {
   "cell_type": "markdown",
   "metadata": {},
   "source": [
    "3. Добавление и удаление элементов:"
   ]
  },
  {
   "cell_type": "code",
   "execution_count": 25,
   "metadata": {},
   "outputs": [],
   "source": [
    "tree = ElementTree.parse(\"data/example_copy.xml\")\n",
    "root = tree.getroot()\n",
    "\n",
    "bob = root[0]\n",
    "description = ElementTree.Element('description')  # создать тег 'description'\n",
    "description.text = \"Showed great skills\"          # задать содержимое тега\n",
    "bob.append(description)                           # добавть описание тега в дерево\n",
    "\n",
    "certificate = bob.find('certificate')             # найти первыйй тег 'certificate'\n",
    "bob.remove(certificate)                           # удалить тег из дерева\n",
    "\n",
    "tree.write(\"data/example_mod.xml\")"
   ]
  },
  {
   "cell_type": "code",
   "execution_count": 26,
   "metadata": {},
   "outputs": [],
   "source": [
    "root = ElementTree.Element('student')             # создание дерева тегов и их запись в файл\n",
    "first_name = ElementTree.SubElement(root, 'firstName')\n",
    "first_name.text = 'Bob'\n",
    "last_name = ElementTree.SubElement(root, 'lastName')\n",
    "last_name.text = 'Smith'\n",
    "scores = ElementTree.SubElement(root, 'scores')\n",
    "res1 = ElementTree.SubElement(scores, 'res1')\n",
    "res1.text = '90'\n",
    "res2 = ElementTree.SubElement(scores, 'res2')\n",
    "res2.text = '80'\n",
    "res3 = ElementTree.SubElement(scores, 'res3')\n",
    "res3.text = '75'\n",
    "\n",
    "tree = ElementTree.ElementTree(root)\n",
    "tree.write(\"data/example_mod2.xml\")"
   ]
  },
  {
   "cell_type": "markdown",
   "metadata": {},
   "source": [
    "### Пример:\n",
    "\n",
    "Дано описание пирамиды из кубиков в формате XML. Кубики могут быть трех цветов: красный, зеленый и синий. Введем понятие ценности для кубиков: это уровень в дереве xml (верхний — 1, ниже — 2 и т.д.). Ценность цвета равна сумме ценностей всех кубиков этого цвета. Выведите ценности красного, зеленого и синего цветов."
   ]
  },
  {
   "cell_type": "code",
   "execution_count": 31,
   "metadata": {},
   "outputs": [
    {
     "name": "stdout",
     "output_type": "stream",
     "text": [
      "4 3 1\n"
     ]
    }
   ],
   "source": [
    "#"
   ]
  },
  {
   "cell_type": "markdown",
   "metadata": {},
   "source": [
    "Часто данные из интернета бывают плохо сформированы (например, не закрыты теги или указаны в неправильном порядке и т.д.). Для работы с такими html файлами существуют \"умные\" библиотеки **lxml** и **bs4**."
   ]
  },
  {
   "cell_type": "code",
   "execution_count": 28,
   "metadata": {},
   "outputs": [
    {
     "name": "stdout",
     "output_type": "stream",
     "text": [
      "200 text/html\n",
      "{'href': 'genindex.html', 'title': 'General Index', 'accesskey': 'I'}\n",
      "{'href': 'py-modindex.html', 'title': 'Python Module Index'}\n",
      "{'href': 'https://www.python.org/'}\n",
      "{'href': '#'}\n",
      "{'class': 'biglink', 'href': 'whatsnew/3.7.html'}\n",
      "{'href': 'whatsnew/index.html'}\n",
      "{'class': 'biglink', 'href': 'tutorial/index.html'}\n",
      "{'class': 'biglink', 'href': 'library/index.html'}\n",
      "{'class': 'biglink', 'href': 'reference/index.html'}\n",
      "{'class': 'biglink', 'href': 'using/index.html'}\n",
      "{'class': 'biglink', 'href': 'howto/index.html'}\n",
      "{'class': 'biglink', 'href': 'installing/index.html'}\n",
      "{'class': 'biglink', 'href': 'distributing/index.html'}\n",
      "{'class': 'biglink', 'href': 'extending/index.html'}\n",
      "{'class': 'biglink', 'href': 'c-api/index.html'}\n",
      "{'class': 'biglink', 'href': 'faq/index.html'}\n",
      "{'class': 'biglink', 'href': 'py-modindex.html'}\n",
      "{'class': 'biglink', 'href': 'genindex.html'}\n",
      "{'class': 'biglink', 'href': 'glossary.html'}\n",
      "{'class': 'biglink', 'href': 'search.html'}\n",
      "{'class': 'biglink', 'href': 'contents.html'}\n",
      "{'class': 'biglink', 'href': 'bugs.html'}\n",
      "{'class': 'biglink', 'href': 'about.html'}\n",
      "{'class': 'biglink', 'href': 'license.html'}\n",
      "{'class': 'biglink', 'href': 'copyright.html'}\n",
      "{'href': 'download.html'}\n",
      "{'href': 'https://docs.python.org/3.9/'}\n",
      "{'href': 'https://docs.python.org/3.8/'}\n",
      "{'href': 'https://docs.python.org/3.7/'}\n",
      "{'href': 'https://docs.python.org/3.6/'}\n",
      "{'href': 'https://docs.python.org/3.5/'}\n",
      "{'href': 'https://docs.python.org/2.7/'}\n",
      "{'href': 'https://www.python.org/doc/versions/'}\n",
      "{'href': 'https://www.python.org/dev/peps/'}\n",
      "{'href': 'https://wiki.python.org/moin/BeginnersGuide'}\n",
      "{'href': 'https://wiki.python.org/moin/PythonBooks'}\n",
      "{'href': 'https://www.python.org/doc/av/'}\n",
      "{'href': 'genindex.html', 'title': 'General Index'}\n",
      "{'href': 'py-modindex.html', 'title': 'Python Module Index'}\n",
      "{'href': 'https://www.python.org/'}\n",
      "{'href': '#'}\n",
      "{'href': 'copyright.html'}\n",
      "{'href': 'https://www.python.org/psf/donations/'}\n",
      "{'href': 'bugs.html'}\n",
      "{'href': 'http://sphinx.pocoo.org/'}\n"
     ]
    }
   ],
   "source": [
    "from lxml import etree\n",
    "import requests\n",
    "\n",
    "res = requests.get(\"https://docs.python.org/3/\")\n",
    "print(res.status_code, res.headers['Content-Type'])\n",
    "\n",
    "root = etree.fromstring(res.text, etree.HTMLParser())  # использовать умный парсер\n",
    "for el in root.iter('a'):                              # перебрать все ссылки в поддереве\n",
    "    print(el.attrib)"
   ]
  }
 ],
 "metadata": {
  "kernelspec": {
   "display_name": "Python 3",
   "language": "python",
   "name": "python3"
  },
  "language_info": {
   "codemirror_mode": {
    "name": "ipython",
    "version": 3
   },
   "file_extension": ".py",
   "mimetype": "text/x-python",
   "name": "python",
   "nbconvert_exporter": "python",
   "pygments_lexer": "ipython3",
   "version": "3.7.4"
  }
 },
 "nbformat": 4,
 "nbformat_minor": 4
}
